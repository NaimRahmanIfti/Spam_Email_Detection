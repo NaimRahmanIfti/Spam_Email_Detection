{
  "cells": [
    {
      "cell_type": "code",
      "execution_count": 3,
      "metadata": {
        "colab": {
          "base_uri": "https://localhost:8080/"
        },
        "id": "bneF5n9C_Ina",
        "outputId": "c1c52256-1707-4ec5-fe58-db2a8caeba24"
      },
      "outputs": [
        {
          "ename": "ModuleNotFoundError",
          "evalue": "No module named 'google'",
          "output_type": "error",
          "traceback": [
            "\u001b[0;31m---------------------------------------------------------------------------\u001b[0m",
            "\u001b[0;31mModuleNotFoundError\u001b[0m                       Traceback (most recent call last)",
            "Cell \u001b[0;32mIn[3], line 1\u001b[0m\n\u001b[0;32m----> 1\u001b[0m \u001b[38;5;28;01mfrom\u001b[39;00m \u001b[38;5;21;01mgoogle\u001b[39;00m\u001b[38;5;21;01m.\u001b[39;00m\u001b[38;5;21;01mcolab\u001b[39;00m \u001b[38;5;28;01mimport\u001b[39;00m drive\n\u001b[1;32m      2\u001b[0m drive\u001b[38;5;241m.\u001b[39mmount(\u001b[38;5;124m'\u001b[39m\u001b[38;5;124m/content/drive\u001b[39m\u001b[38;5;124m'\u001b[39m)\n",
            "\u001b[0;31mModuleNotFoundError\u001b[0m: No module named 'google'"
          ]
        }
      ],
      "source": [
        "from google.colab import drive\n",
        "drive.mount('/content/drive')"
      ]
    },
    {
      "cell_type": "markdown",
      "metadata": {
        "id": "_Ar6YdQpBEMV"
      },
      "source": [
        "Mounted at /content/drive"
      ]
    },
    {
      "cell_type": "code",
      "execution_count": 6,
      "metadata": {
        "id": "CnVpziFmBF9A"
      },
      "outputs": [
        {
          "ename": "ModuleNotFoundError",
          "evalue": "No module named 'pandas'",
          "output_type": "error",
          "traceback": [
            "\u001b[0;31m---------------------------------------------------------------------------\u001b[0m",
            "\u001b[0;31mModuleNotFoundError\u001b[0m                       Traceback (most recent call last)",
            "Cell \u001b[0;32mIn[6], line 1\u001b[0m\n\u001b[0;32m----> 1\u001b[0m \u001b[38;5;28;01mimport\u001b[39;00m \u001b[38;5;21;01mpandas\u001b[39;00m \u001b[38;5;28;01mas\u001b[39;00m \u001b[38;5;21;01mpd\u001b[39;00m \n\u001b[1;32m      2\u001b[0m \u001b[38;5;28;01mimport\u001b[39;00m \u001b[38;5;21;01mnumpy\u001b[39;00m \u001b[38;5;28;01mas\u001b[39;00m \u001b[38;5;21;01mnp\u001b[39;00m \u001b[38;5;66;03m# For numerical operations\u001b[39;00m\n\u001b[1;32m      3\u001b[0m \u001b[38;5;28;01mimport\u001b[39;00m \u001b[38;5;21;01mmatplotlib\u001b[39;00m\u001b[38;5;21;01m.\u001b[39;00m\u001b[38;5;21;01mpyplot\u001b[39;00m \u001b[38;5;28;01mas\u001b[39;00m \u001b[38;5;21;01mplt\u001b[39;00m \u001b[38;5;66;03m# For data visualization\u001b[39;00m\n",
            "\u001b[0;31mModuleNotFoundError\u001b[0m: No module named 'pandas'"
          ]
        }
      ],
      "source": [
        "import pandas as pd \n",
        "import numpy as np # For numerical operations\n",
        "import matplotlib.pyplot as plt # For data visualization\n",
        "import random # For random number generation\n",
        "import seaborn as sns # For data visualization\n",
        "from sklearn.feature_extraction.text import TfidfVectorizer # For text vectorization\n",
        "from sklearn.model_selection import train_test_split # For data splitting\n",
        "from sklearn.feature_selection import mutual_info_classif"
      ]
    },
    {
      "cell_type": "code",
      "execution_count": null,
      "metadata": {
        "colab": {
          "base_uri": "https://localhost:8080/",
          "height": 206
        },
        "id": "XvML_amwBPPB",
        "outputId": "3fa4df61-5d85-41e1-b983-6da7638f8b20"
      },
      "outputs": [
        {
          "data": {
            "application/vnd.google.colaboratory.intrinsic+json": {
              "summary": "{\n  \"name\": \"df1\",\n  \"rows\": 10000,\n  \"fields\": [\n    {\n      \"column\": \"Unnamed: 0.1\",\n      \"properties\": {\n        \"dtype\": \"number\",\n        \"std\": 9735,\n        \"min\": 8,\n        \"max\": 33698,\n        \"num_unique_values\": 10000,\n        \"samples\": [\n          32819,\n          918,\n          6520\n        ],\n        \"semantic_type\": \"\",\n        \"description\": \"\"\n      }\n    },\n    {\n      \"column\": \"Unnamed: 0\",\n      \"properties\": {\n        \"dtype\": \"number\",\n        \"std\": 9735,\n        \"min\": 8,\n        \"max\": 33698,\n        \"num_unique_values\": 10000,\n        \"samples\": [\n          32819,\n          918,\n          6520\n        ],\n        \"semantic_type\": \"\",\n        \"description\": \"\"\n      }\n    },\n    {\n      \"column\": \"Body\",\n      \"properties\": {\n        \"dtype\": \"string\",\n        \"num_unique_values\": 9687,\n        \"samples\": [\n          \"Subject: re : chapter\\n dear vince ,\\n that ' s fine - i didn ' t know if yours had changed as grant ' s did - i have\\n your earlier part and that has already been type set .\\n best regards .\\n chris .\\n - - - - - original message - - - - -\\n from : \\\" vince j kaminski \\\"\\n to : \\\" chris strickland \\\"\\n cc : \\\" vince j kaminski \\\"\\n sent : tuesday , august 29 , 2000 5 : 18 am\\n subject : re : chapter\\n >\\n >\\n > chris ,\\n >\\n > my part has not changed for some time ( since early july ) .\\n >\\n > i sent the last vintage of corrections to you when i was in sydney .\\n > you can send the version you consider final to us just to double check .\\n >\\n > i took the liberty of sending our chapter to darrell duffie and he liked\\n it .\\n > what is more important he did not find any error .\\n >\\n >\\n > i shell send you my comments on the article for robin in a day or so .\\n >\\n > vince\\n >\\n >\\n >\\n >\\n >\\n >\\n > \\\" chris strickland \\\" on 08 / 28 / 2000 02 : 55 : 31 pm\\n >\\n > please respond to \\\" chris strickland \\\"\\n >\\n > to : ,\\n > cc :\\n > subject : chapter\\n >\\n >\\n >\\n > hi vince ,\\n >\\n > how are things with you ? well i hope . do you have the latest version of\\n your\\n > part of chapter 3 ? ( i think grant has sent thru a seperate , updated\\n version to\\n > you , which has been typeset ) . everything else has been tied up and we\\n will go\\n > with the version we have , unless we hear otherwise .\\n >\\n > many thanks and best regards .\\n >\\n > chris .\\n >\\n >\\n >\\n >\\n >\\n >\\n >\\n >\",\n          \"Subject: 98 - 6892 overflow\\n can you please extend sitara deal ticket 16888 to the 15 th ? 14 dec . flowed\\n on this day .\\n thanks\\n - jackie -\",\n          \"Subject: unique idea : $ 50 no wager requirement bonus from vegas towers\\n please click here to opt out of future e - mailings .\\n\"\n        ],\n        \"semantic_type\": \"\",\n        \"description\": \"\"\n      }\n    },\n    {\n      \"column\": \"Label\",\n      \"properties\": {\n        \"dtype\": \"number\",\n        \"std\": 0,\n        \"min\": 0,\n        \"max\": 1,\n        \"num_unique_values\": 2,\n        \"samples\": [\n          0,\n          1\n        ],\n        \"semantic_type\": \"\",\n        \"description\": \"\"\n      }\n    }\n  ]\n}",
              "type": "dataframe",
              "variable_name": "df1"
            },
            "text/html": [
              "\n",
              "  <div id=\"df-536600be-bf04-4e34-b357-b036bdf67cab\" class=\"colab-df-container\">\n",
              "    <div>\n",
              "<style scoped>\n",
              "    .dataframe tbody tr th:only-of-type {\n",
              "        vertical-align: middle;\n",
              "    }\n",
              "\n",
              "    .dataframe tbody tr th {\n",
              "        vertical-align: top;\n",
              "    }\n",
              "\n",
              "    .dataframe thead th {\n",
              "        text-align: right;\n",
              "    }\n",
              "</style>\n",
              "<table border=\"1\" class=\"dataframe\">\n",
              "  <thead>\n",
              "    <tr style=\"text-align: right;\">\n",
              "      <th></th>\n",
              "      <th>Unnamed: 0.1</th>\n",
              "      <th>Unnamed: 0</th>\n",
              "      <th>Body</th>\n",
              "      <th>Label</th>\n",
              "    </tr>\n",
              "  </thead>\n",
              "  <tbody>\n",
              "    <tr>\n",
              "      <th>0</th>\n",
              "      <td>2469</td>\n",
              "      <td>2469</td>\n",
              "      <td>Subject: stock promo mover : cwtd\\n * * * urge...</td>\n",
              "      <td>1</td>\n",
              "    </tr>\n",
              "    <tr>\n",
              "      <th>1</th>\n",
              "      <td>5063</td>\n",
              "      <td>5063</td>\n",
              "      <td>Subject: are you listed in major search engine...</td>\n",
              "      <td>1</td>\n",
              "    </tr>\n",
              "    <tr>\n",
              "      <th>2</th>\n",
              "      <td>12564</td>\n",
              "      <td>12564</td>\n",
              "      <td>Subject: important information thu , 30 jun 20...</td>\n",
              "      <td>1</td>\n",
              "    </tr>\n",
              "    <tr>\n",
              "      <th>3</th>\n",
              "      <td>2796</td>\n",
              "      <td>2796</td>\n",
              "      <td>Subject: = ? utf - 8 ? q ? bask your life with...</td>\n",
              "      <td>1</td>\n",
              "    </tr>\n",
              "    <tr>\n",
              "      <th>4</th>\n",
              "      <td>1468</td>\n",
              "      <td>1468</td>\n",
              "      <td>Subject: \" bidstogo \" is places to go , things...</td>\n",
              "      <td>1</td>\n",
              "    </tr>\n",
              "  </tbody>\n",
              "</table>\n",
              "</div>\n",
              "    <div class=\"colab-df-buttons\">\n",
              "\n",
              "  <div class=\"colab-df-container\">\n",
              "    <button class=\"colab-df-convert\" onclick=\"convertToInteractive('df-536600be-bf04-4e34-b357-b036bdf67cab')\"\n",
              "            title=\"Convert this dataframe to an interactive table.\"\n",
              "            style=\"display:none;\">\n",
              "\n",
              "  <svg xmlns=\"http://www.w3.org/2000/svg\" height=\"24px\" viewBox=\"0 -960 960 960\">\n",
              "    <path d=\"M120-120v-720h720v720H120Zm60-500h600v-160H180v160Zm220 220h160v-160H400v160Zm0 220h160v-160H400v160ZM180-400h160v-160H180v160Zm440 0h160v-160H620v160ZM180-180h160v-160H180v160Zm440 0h160v-160H620v160Z\"/>\n",
              "  </svg>\n",
              "    </button>\n",
              "\n",
              "  <style>\n",
              "    .colab-df-container {\n",
              "      display:flex;\n",
              "      gap: 12px;\n",
              "    }\n",
              "\n",
              "    .colab-df-convert {\n",
              "      background-color: #E8F0FE;\n",
              "      border: none;\n",
              "      border-radius: 50%;\n",
              "      cursor: pointer;\n",
              "      display: none;\n",
              "      fill: #1967D2;\n",
              "      height: 32px;\n",
              "      padding: 0 0 0 0;\n",
              "      width: 32px;\n",
              "    }\n",
              "\n",
              "    .colab-df-convert:hover {\n",
              "      background-color: #E2EBFA;\n",
              "      box-shadow: 0px 1px 2px rgba(60, 64, 67, 0.3), 0px 1px 3px 1px rgba(60, 64, 67, 0.15);\n",
              "      fill: #174EA6;\n",
              "    }\n",
              "\n",
              "    .colab-df-buttons div {\n",
              "      margin-bottom: 4px;\n",
              "    }\n",
              "\n",
              "    [theme=dark] .colab-df-convert {\n",
              "      background-color: #3B4455;\n",
              "      fill: #D2E3FC;\n",
              "    }\n",
              "\n",
              "    [theme=dark] .colab-df-convert:hover {\n",
              "      background-color: #434B5C;\n",
              "      box-shadow: 0px 1px 3px 1px rgba(0, 0, 0, 0.15);\n",
              "      filter: drop-shadow(0px 1px 2px rgba(0, 0, 0, 0.3));\n",
              "      fill: #FFFFFF;\n",
              "    }\n",
              "  </style>\n",
              "\n",
              "    <script>\n",
              "      const buttonEl =\n",
              "        document.querySelector('#df-536600be-bf04-4e34-b357-b036bdf67cab button.colab-df-convert');\n",
              "      buttonEl.style.display =\n",
              "        google.colab.kernel.accessAllowed ? 'block' : 'none';\n",
              "\n",
              "      async function convertToInteractive(key) {\n",
              "        const element = document.querySelector('#df-536600be-bf04-4e34-b357-b036bdf67cab');\n",
              "        const dataTable =\n",
              "          await google.colab.kernel.invokeFunction('convertToInteractive',\n",
              "                                                    [key], {});\n",
              "        if (!dataTable) return;\n",
              "\n",
              "        const docLinkHtml = 'Like what you see? Visit the ' +\n",
              "          '<a target=\"_blank\" href=https://colab.research.google.com/notebooks/data_table.ipynb>data table notebook</a>'\n",
              "          + ' to learn more about interactive tables.';\n",
              "        element.innerHTML = '';\n",
              "        dataTable['output_type'] = 'display_data';\n",
              "        await google.colab.output.renderOutput(dataTable, element);\n",
              "        const docLink = document.createElement('div');\n",
              "        docLink.innerHTML = docLinkHtml;\n",
              "        element.appendChild(docLink);\n",
              "      }\n",
              "    </script>\n",
              "  </div>\n",
              "\n",
              "\n",
              "    <div id=\"df-f971edd7-ba72-4dff-a44e-18b42ec241a3\">\n",
              "      <button class=\"colab-df-quickchart\" onclick=\"quickchart('df-f971edd7-ba72-4dff-a44e-18b42ec241a3')\"\n",
              "                title=\"Suggest charts\"\n",
              "                style=\"display:none;\">\n",
              "\n",
              "<svg xmlns=\"http://www.w3.org/2000/svg\" height=\"24px\"viewBox=\"0 0 24 24\"\n",
              "     width=\"24px\">\n",
              "    <g>\n",
              "        <path d=\"M19 3H5c-1.1 0-2 .9-2 2v14c0 1.1.9 2 2 2h14c1.1 0 2-.9 2-2V5c0-1.1-.9-2-2-2zM9 17H7v-7h2v7zm4 0h-2V7h2v10zm4 0h-2v-4h2v4z\"/>\n",
              "    </g>\n",
              "</svg>\n",
              "      </button>\n",
              "\n",
              "<style>\n",
              "  .colab-df-quickchart {\n",
              "      --bg-color: #E8F0FE;\n",
              "      --fill-color: #1967D2;\n",
              "      --hover-bg-color: #E2EBFA;\n",
              "      --hover-fill-color: #174EA6;\n",
              "      --disabled-fill-color: #AAA;\n",
              "      --disabled-bg-color: #DDD;\n",
              "  }\n",
              "\n",
              "  [theme=dark] .colab-df-quickchart {\n",
              "      --bg-color: #3B4455;\n",
              "      --fill-color: #D2E3FC;\n",
              "      --hover-bg-color: #434B5C;\n",
              "      --hover-fill-color: #FFFFFF;\n",
              "      --disabled-bg-color: #3B4455;\n",
              "      --disabled-fill-color: #666;\n",
              "  }\n",
              "\n",
              "  .colab-df-quickchart {\n",
              "    background-color: var(--bg-color);\n",
              "    border: none;\n",
              "    border-radius: 50%;\n",
              "    cursor: pointer;\n",
              "    display: none;\n",
              "    fill: var(--fill-color);\n",
              "    height: 32px;\n",
              "    padding: 0;\n",
              "    width: 32px;\n",
              "  }\n",
              "\n",
              "  .colab-df-quickchart:hover {\n",
              "    background-color: var(--hover-bg-color);\n",
              "    box-shadow: 0 1px 2px rgba(60, 64, 67, 0.3), 0 1px 3px 1px rgba(60, 64, 67, 0.15);\n",
              "    fill: var(--button-hover-fill-color);\n",
              "  }\n",
              "\n",
              "  .colab-df-quickchart-complete:disabled,\n",
              "  .colab-df-quickchart-complete:disabled:hover {\n",
              "    background-color: var(--disabled-bg-color);\n",
              "    fill: var(--disabled-fill-color);\n",
              "    box-shadow: none;\n",
              "  }\n",
              "\n",
              "  .colab-df-spinner {\n",
              "    border: 2px solid var(--fill-color);\n",
              "    border-color: transparent;\n",
              "    border-bottom-color: var(--fill-color);\n",
              "    animation:\n",
              "      spin 1s steps(1) infinite;\n",
              "  }\n",
              "\n",
              "  @keyframes spin {\n",
              "    0% {\n",
              "      border-color: transparent;\n",
              "      border-bottom-color: var(--fill-color);\n",
              "      border-left-color: var(--fill-color);\n",
              "    }\n",
              "    20% {\n",
              "      border-color: transparent;\n",
              "      border-left-color: var(--fill-color);\n",
              "      border-top-color: var(--fill-color);\n",
              "    }\n",
              "    30% {\n",
              "      border-color: transparent;\n",
              "      border-left-color: var(--fill-color);\n",
              "      border-top-color: var(--fill-color);\n",
              "      border-right-color: var(--fill-color);\n",
              "    }\n",
              "    40% {\n",
              "      border-color: transparent;\n",
              "      border-right-color: var(--fill-color);\n",
              "      border-top-color: var(--fill-color);\n",
              "    }\n",
              "    60% {\n",
              "      border-color: transparent;\n",
              "      border-right-color: var(--fill-color);\n",
              "    }\n",
              "    80% {\n",
              "      border-color: transparent;\n",
              "      border-right-color: var(--fill-color);\n",
              "      border-bottom-color: var(--fill-color);\n",
              "    }\n",
              "    90% {\n",
              "      border-color: transparent;\n",
              "      border-bottom-color: var(--fill-color);\n",
              "    }\n",
              "  }\n",
              "</style>\n",
              "\n",
              "      <script>\n",
              "        async function quickchart(key) {\n",
              "          const quickchartButtonEl =\n",
              "            document.querySelector('#' + key + ' button');\n",
              "          quickchartButtonEl.disabled = true;  // To prevent multiple clicks.\n",
              "          quickchartButtonEl.classList.add('colab-df-spinner');\n",
              "          try {\n",
              "            const charts = await google.colab.kernel.invokeFunction(\n",
              "                'suggestCharts', [key], {});\n",
              "          } catch (error) {\n",
              "            console.error('Error during call to suggestCharts:', error);\n",
              "          }\n",
              "          quickchartButtonEl.classList.remove('colab-df-spinner');\n",
              "          quickchartButtonEl.classList.add('colab-df-quickchart-complete');\n",
              "        }\n",
              "        (() => {\n",
              "          let quickchartButtonEl =\n",
              "            document.querySelector('#df-f971edd7-ba72-4dff-a44e-18b42ec241a3 button');\n",
              "          quickchartButtonEl.style.display =\n",
              "            google.colab.kernel.accessAllowed ? 'block' : 'none';\n",
              "        })();\n",
              "      </script>\n",
              "    </div>\n",
              "\n",
              "    </div>\n",
              "  </div>\n"
            ],
            "text/plain": [
              "   Unnamed: 0.1  Unnamed: 0  \\\n",
              "0          2469        2469   \n",
              "1          5063        5063   \n",
              "2         12564       12564   \n",
              "3          2796        2796   \n",
              "4          1468        1468   \n",
              "\n",
              "                                                Body  Label  \n",
              "0  Subject: stock promo mover : cwtd\\n * * * urge...      1  \n",
              "1  Subject: are you listed in major search engine...      1  \n",
              "2  Subject: important information thu , 30 jun 20...      1  \n",
              "3  Subject: = ? utf - 8 ? q ? bask your life with...      1  \n",
              "4  Subject: \" bidstogo \" is places to go , things...      1  "
            ]
          },
          "execution_count": 3,
          "metadata": {},
          "output_type": "execute_result"
        }
      ],
      "source": [
        "file_path1 = ('/content/drive/MyDrive/Data Science/Spam_email_old.csv')\n",
        "\n",
        "df1 = pd.read_csv(file_path1)\n",
        "\n",
        "df1.head()"
      ]
    },
    {
      "cell_type": "code",
      "execution_count": null,
      "metadata": {
        "colab": {
          "base_uri": "https://localhost:8080/",
          "height": 206
        },
        "id": "x-FFtkRFDKOQ",
        "outputId": "1a997414-9ff8-4942-9cf4-53d5717d54d3"
      },
      "outputs": [
        {
          "data": {
            "application/vnd.google.colaboratory.intrinsic+json": {
              "type": "dataframe",
              "variable_name": "df2"
            },
            "text/html": [
              "\n",
              "  <div id=\"df-97ace9ad-c207-47a6-b78b-df3c4c01424b\" class=\"colab-df-container\">\n",
              "    <div>\n",
              "<style scoped>\n",
              "    .dataframe tbody tr th:only-of-type {\n",
              "        vertical-align: middle;\n",
              "    }\n",
              "\n",
              "    .dataframe tbody tr th {\n",
              "        vertical-align: top;\n",
              "    }\n",
              "\n",
              "    .dataframe thead th {\n",
              "        text-align: right;\n",
              "    }\n",
              "</style>\n",
              "<table border=\"1\" class=\"dataframe\">\n",
              "  <thead>\n",
              "    <tr style=\"text-align: right;\">\n",
              "      <th></th>\n",
              "      <th>text</th>\n",
              "      <th>type</th>\n",
              "      <th>source</th>\n",
              "      <th>word_count</th>\n",
              "      <th>sentence_count</th>\n",
              "      <th>words_per_sentence</th>\n",
              "      <th>domain</th>\n",
              "    </tr>\n",
              "  </thead>\n",
              "  <tbody>\n",
              "    <tr>\n",
              "      <th>0</th>\n",
              "      <td>\\nHi, Ms Nadia Jules is my name, An Orphan fro...</td>\n",
              "      <td>phishing</td>\n",
              "      <td>deduplicated_dataset.csv</td>\n",
              "      <td>47</td>\n",
              "      <td>3</td>\n",
              "      <td>15.666667</td>\n",
              "      <td>unknown</td>\n",
              "    </tr>\n",
              "    <tr>\n",
              "      <th>1</th>\n",
              "      <td>I am Edward Thomas  , There is  this  client o...</td>\n",
              "      <td>phishing</td>\n",
              "      <td>deduplicated_dataset.csv</td>\n",
              "      <td>101</td>\n",
              "      <td>5</td>\n",
              "      <td>20.200000</td>\n",
              "      <td>fm.bb</td>\n",
              "    </tr>\n",
              "    <tr>\n",
              "      <th>2</th>\n",
              "      <td>My name is Gerald L. Marcus, I know a single b...</td>\n",
              "      <td>phishing</td>\n",
              "      <td>deduplicated_dataset.csv</td>\n",
              "      <td>95</td>\n",
              "      <td>8</td>\n",
              "      <td>11.875000</td>\n",
              "      <td>gmail.com</td>\n",
              "    </tr>\n",
              "    <tr>\n",
              "      <th>3</th>\n",
              "      <td>\\nMy Name is Rose Modepe an orphan, I gave bir...</td>\n",
              "      <td>phishing</td>\n",
              "      <td>deduplicated_dataset.csv</td>\n",
              "      <td>56</td>\n",
              "      <td>3</td>\n",
              "      <td>18.666667</td>\n",
              "      <td>unknown</td>\n",
              "    </tr>\n",
              "    <tr>\n",
              "      <th>4</th>\n",
              "      <td>\\nHi\\n\\nMy name is Mrs Yetunde Owolabi from Re...</td>\n",
              "      <td>phishing</td>\n",
              "      <td>deduplicated_dataset.csv</td>\n",
              "      <td>90</td>\n",
              "      <td>4</td>\n",
              "      <td>22.500000</td>\n",
              "      <td>unknown</td>\n",
              "    </tr>\n",
              "  </tbody>\n",
              "</table>\n",
              "</div>\n",
              "    <div class=\"colab-df-buttons\">\n",
              "\n",
              "  <div class=\"colab-df-container\">\n",
              "    <button class=\"colab-df-convert\" onclick=\"convertToInteractive('df-97ace9ad-c207-47a6-b78b-df3c4c01424b')\"\n",
              "            title=\"Convert this dataframe to an interactive table.\"\n",
              "            style=\"display:none;\">\n",
              "\n",
              "  <svg xmlns=\"http://www.w3.org/2000/svg\" height=\"24px\" viewBox=\"0 -960 960 960\">\n",
              "    <path d=\"M120-120v-720h720v720H120Zm60-500h600v-160H180v160Zm220 220h160v-160H400v160Zm0 220h160v-160H400v160ZM180-400h160v-160H180v160Zm440 0h160v-160H620v160ZM180-180h160v-160H180v160Zm440 0h160v-160H620v160Z\"/>\n",
              "  </svg>\n",
              "    </button>\n",
              "\n",
              "  <style>\n",
              "    .colab-df-container {\n",
              "      display:flex;\n",
              "      gap: 12px;\n",
              "    }\n",
              "\n",
              "    .colab-df-convert {\n",
              "      background-color: #E8F0FE;\n",
              "      border: none;\n",
              "      border-radius: 50%;\n",
              "      cursor: pointer;\n",
              "      display: none;\n",
              "      fill: #1967D2;\n",
              "      height: 32px;\n",
              "      padding: 0 0 0 0;\n",
              "      width: 32px;\n",
              "    }\n",
              "\n",
              "    .colab-df-convert:hover {\n",
              "      background-color: #E2EBFA;\n",
              "      box-shadow: 0px 1px 2px rgba(60, 64, 67, 0.3), 0px 1px 3px 1px rgba(60, 64, 67, 0.15);\n",
              "      fill: #174EA6;\n",
              "    }\n",
              "\n",
              "    .colab-df-buttons div {\n",
              "      margin-bottom: 4px;\n",
              "    }\n",
              "\n",
              "    [theme=dark] .colab-df-convert {\n",
              "      background-color: #3B4455;\n",
              "      fill: #D2E3FC;\n",
              "    }\n",
              "\n",
              "    [theme=dark] .colab-df-convert:hover {\n",
              "      background-color: #434B5C;\n",
              "      box-shadow: 0px 1px 3px 1px rgba(0, 0, 0, 0.15);\n",
              "      filter: drop-shadow(0px 1px 2px rgba(0, 0, 0, 0.3));\n",
              "      fill: #FFFFFF;\n",
              "    }\n",
              "  </style>\n",
              "\n",
              "    <script>\n",
              "      const buttonEl =\n",
              "        document.querySelector('#df-97ace9ad-c207-47a6-b78b-df3c4c01424b button.colab-df-convert');\n",
              "      buttonEl.style.display =\n",
              "        google.colab.kernel.accessAllowed ? 'block' : 'none';\n",
              "\n",
              "      async function convertToInteractive(key) {\n",
              "        const element = document.querySelector('#df-97ace9ad-c207-47a6-b78b-df3c4c01424b');\n",
              "        const dataTable =\n",
              "          await google.colab.kernel.invokeFunction('convertToInteractive',\n",
              "                                                    [key], {});\n",
              "        if (!dataTable) return;\n",
              "\n",
              "        const docLinkHtml = 'Like what you see? Visit the ' +\n",
              "          '<a target=\"_blank\" href=https://colab.research.google.com/notebooks/data_table.ipynb>data table notebook</a>'\n",
              "          + ' to learn more about interactive tables.';\n",
              "        element.innerHTML = '';\n",
              "        dataTable['output_type'] = 'display_data';\n",
              "        await google.colab.output.renderOutput(dataTable, element);\n",
              "        const docLink = document.createElement('div');\n",
              "        docLink.innerHTML = docLinkHtml;\n",
              "        element.appendChild(docLink);\n",
              "      }\n",
              "    </script>\n",
              "  </div>\n",
              "\n",
              "\n",
              "    <div id=\"df-ce24294f-106f-4857-93cb-56a8413244df\">\n",
              "      <button class=\"colab-df-quickchart\" onclick=\"quickchart('df-ce24294f-106f-4857-93cb-56a8413244df')\"\n",
              "                title=\"Suggest charts\"\n",
              "                style=\"display:none;\">\n",
              "\n",
              "<svg xmlns=\"http://www.w3.org/2000/svg\" height=\"24px\"viewBox=\"0 0 24 24\"\n",
              "     width=\"24px\">\n",
              "    <g>\n",
              "        <path d=\"M19 3H5c-1.1 0-2 .9-2 2v14c0 1.1.9 2 2 2h14c1.1 0 2-.9 2-2V5c0-1.1-.9-2-2-2zM9 17H7v-7h2v7zm4 0h-2V7h2v10zm4 0h-2v-4h2v4z\"/>\n",
              "    </g>\n",
              "</svg>\n",
              "      </button>\n",
              "\n",
              "<style>\n",
              "  .colab-df-quickchart {\n",
              "      --bg-color: #E8F0FE;\n",
              "      --fill-color: #1967D2;\n",
              "      --hover-bg-color: #E2EBFA;\n",
              "      --hover-fill-color: #174EA6;\n",
              "      --disabled-fill-color: #AAA;\n",
              "      --disabled-bg-color: #DDD;\n",
              "  }\n",
              "\n",
              "  [theme=dark] .colab-df-quickchart {\n",
              "      --bg-color: #3B4455;\n",
              "      --fill-color: #D2E3FC;\n",
              "      --hover-bg-color: #434B5C;\n",
              "      --hover-fill-color: #FFFFFF;\n",
              "      --disabled-bg-color: #3B4455;\n",
              "      --disabled-fill-color: #666;\n",
              "  }\n",
              "\n",
              "  .colab-df-quickchart {\n",
              "    background-color: var(--bg-color);\n",
              "    border: none;\n",
              "    border-radius: 50%;\n",
              "    cursor: pointer;\n",
              "    display: none;\n",
              "    fill: var(--fill-color);\n",
              "    height: 32px;\n",
              "    padding: 0;\n",
              "    width: 32px;\n",
              "  }\n",
              "\n",
              "  .colab-df-quickchart:hover {\n",
              "    background-color: var(--hover-bg-color);\n",
              "    box-shadow: 0 1px 2px rgba(60, 64, 67, 0.3), 0 1px 3px 1px rgba(60, 64, 67, 0.15);\n",
              "    fill: var(--button-hover-fill-color);\n",
              "  }\n",
              "\n",
              "  .colab-df-quickchart-complete:disabled,\n",
              "  .colab-df-quickchart-complete:disabled:hover {\n",
              "    background-color: var(--disabled-bg-color);\n",
              "    fill: var(--disabled-fill-color);\n",
              "    box-shadow: none;\n",
              "  }\n",
              "\n",
              "  .colab-df-spinner {\n",
              "    border: 2px solid var(--fill-color);\n",
              "    border-color: transparent;\n",
              "    border-bottom-color: var(--fill-color);\n",
              "    animation:\n",
              "      spin 1s steps(1) infinite;\n",
              "  }\n",
              "\n",
              "  @keyframes spin {\n",
              "    0% {\n",
              "      border-color: transparent;\n",
              "      border-bottom-color: var(--fill-color);\n",
              "      border-left-color: var(--fill-color);\n",
              "    }\n",
              "    20% {\n",
              "      border-color: transparent;\n",
              "      border-left-color: var(--fill-color);\n",
              "      border-top-color: var(--fill-color);\n",
              "    }\n",
              "    30% {\n",
              "      border-color: transparent;\n",
              "      border-left-color: var(--fill-color);\n",
              "      border-top-color: var(--fill-color);\n",
              "      border-right-color: var(--fill-color);\n",
              "    }\n",
              "    40% {\n",
              "      border-color: transparent;\n",
              "      border-right-color: var(--fill-color);\n",
              "      border-top-color: var(--fill-color);\n",
              "    }\n",
              "    60% {\n",
              "      border-color: transparent;\n",
              "      border-right-color: var(--fill-color);\n",
              "    }\n",
              "    80% {\n",
              "      border-color: transparent;\n",
              "      border-right-color: var(--fill-color);\n",
              "      border-bottom-color: var(--fill-color);\n",
              "    }\n",
              "    90% {\n",
              "      border-color: transparent;\n",
              "      border-bottom-color: var(--fill-color);\n",
              "    }\n",
              "  }\n",
              "</style>\n",
              "\n",
              "      <script>\n",
              "        async function quickchart(key) {\n",
              "          const quickchartButtonEl =\n",
              "            document.querySelector('#' + key + ' button');\n",
              "          quickchartButtonEl.disabled = true;  // To prevent multiple clicks.\n",
              "          quickchartButtonEl.classList.add('colab-df-spinner');\n",
              "          try {\n",
              "            const charts = await google.colab.kernel.invokeFunction(\n",
              "                'suggestCharts', [key], {});\n",
              "          } catch (error) {\n",
              "            console.error('Error during call to suggestCharts:', error);\n",
              "          }\n",
              "          quickchartButtonEl.classList.remove('colab-df-spinner');\n",
              "          quickchartButtonEl.classList.add('colab-df-quickchart-complete');\n",
              "        }\n",
              "        (() => {\n",
              "          let quickchartButtonEl =\n",
              "            document.querySelector('#df-ce24294f-106f-4857-93cb-56a8413244df button');\n",
              "          quickchartButtonEl.style.display =\n",
              "            google.colab.kernel.accessAllowed ? 'block' : 'none';\n",
              "        })();\n",
              "      </script>\n",
              "    </div>\n",
              "\n",
              "    </div>\n",
              "  </div>\n"
            ],
            "text/plain": [
              "                                                text      type  \\\n",
              "0  \\nHi, Ms Nadia Jules is my name, An Orphan fro...  phishing   \n",
              "1  I am Edward Thomas  , There is  this  client o...  phishing   \n",
              "2  My name is Gerald L. Marcus, I know a single b...  phishing   \n",
              "3  \\nMy Name is Rose Modepe an orphan, I gave bir...  phishing   \n",
              "4  \\nHi\\n\\nMy name is Mrs Yetunde Owolabi from Re...  phishing   \n",
              "\n",
              "                     source  word_count  sentence_count  words_per_sentence  \\\n",
              "0  deduplicated_dataset.csv          47               3           15.666667   \n",
              "1  deduplicated_dataset.csv         101               5           20.200000   \n",
              "2  deduplicated_dataset.csv          95               8           11.875000   \n",
              "3  deduplicated_dataset.csv          56               3           18.666667   \n",
              "4  deduplicated_dataset.csv          90               4           22.500000   \n",
              "\n",
              "      domain  \n",
              "0    unknown  \n",
              "1      fm.bb  \n",
              "2  gmail.com  \n",
              "3    unknown  \n",
              "4    unknown  "
            ]
          },
          "execution_count": 4,
          "metadata": {},
          "output_type": "execute_result"
        }
      ],
      "source": [
        "file_path2 = ('/content/drive/MyDrive/Data Science/compiled_phishing_dataset.csv')\n",
        "\n",
        "df2 = pd.read_csv(file_path2)\n",
        "\n",
        "df2.head()"
      ]
    },
    {
      "cell_type": "markdown",
      "metadata": {
        "id": "VhaNfyOBDl0O"
      },
      "source": [
        "** Processing the Data **"
      ]
    },
    {
      "cell_type": "code",
      "execution_count": null,
      "metadata": {
        "colab": {
          "base_uri": "https://localhost:8080/"
        },
        "id": "HeGUEmz0DRs8",
        "outputId": "3d4b5d97-ceb2-4a9f-e0c0-7be779b63c88"
      },
      "outputs": [
        {
          "name": "stdout",
          "output_type": "stream",
          "text": [
            "Index(['Unnamed: 0.1', 'Unnamed: 0', 'Body', 'Label'], dtype='object')\n",
            "Index(['text', 'type', 'source', 'word_count', 'sentence_count',\n",
            "       'words_per_sentence', 'domain'],\n",
            "      dtype='object')\n"
          ]
        }
      ],
      "source": [
        "# Check column names\n",
        "print(df1.columns)\n",
        "print(df2.columns)"
      ]
    },
    {
      "cell_type": "code",
      "execution_count": null,
      "metadata": {
        "id": "mOjbyN1MDbqn"
      },
      "outputs": [],
      "source": [
        "# Let's assume 'text' and 'spam' (1 for spam, 0 for ham) are the labels\n",
        "df1 = df1.rename(columns={'Body': 'text', 'Label': 'spam'})\n",
        "# Let's assume 'text' and 'spam' (phising for spam, not phising for ham) are the labels\n",
        "df2 = df2.rename(columns={\"type\": \"spam\"})\n",
        "\n",
        "df2['spam'] = df2['spam'].map({'phishing': 1, 'not phishing': 0})\n",
        "df2 = df2[['text', 'spam']].copy()\n"
      ]
    },
    {
      "cell_type": "code",
      "execution_count": null,
      "metadata": {
        "colab": {
          "base_uri": "https://localhost:8080/"
        },
        "id": "zQu-OF1dgq_5",
        "outputId": "43921dc4-c8af-4faa-fb2e-55541c9f7919"
      },
      "outputs": [
        {
          "name": "stdout",
          "output_type": "stream",
          "text": [
            "                                                text  spam\n",
            "0  Subject: stock promo mover : cwtd\\n * * * urge...     1\n",
            "1  Subject: are you listed in major search engine...     1\n",
            "2  Subject: important information thu , 30 jun 20...     1\n",
            "3  Subject: = ? utf - 8 ? q ? bask your life with...     1\n",
            "4  Subject: \" bidstogo \" is places to go , things...     1\n",
            "                                                text  spam\n",
            "0  \\nHi, Ms Nadia Jules is my name, An Orphan fro...     1\n",
            "1  I am Edward Thomas  , There is  this  client o...     1\n",
            "2  My name is Gerald L. Marcus, I know a single b...     1\n",
            "3  \\nMy Name is Rose Modepe an orphan, I gave bir...     1\n",
            "4  \\nHi\\n\\nMy name is Mrs Yetunde Owolabi from Re...     1\n"
          ]
        }
      ],
      "source": [
        "df1 = df1[['text', 'spam']]\n",
        "df2 = df2[['text', 'spam']]\n",
        "\n",
        "print(df1.head())\n",
        "print(df2.head())\n"
      ]
    },
    {
      "cell_type": "markdown",
      "metadata": {
        "id": "bcAF3OLulCtW"
      },
      "source": [
        "Checking Missing Values"
      ]
    },
    {
      "cell_type": "code",
      "execution_count": null,
      "metadata": {
        "colab": {
          "base_uri": "https://localhost:8080/",
          "height": 147
        },
        "id": "wgHeXK5Ckyox",
        "outputId": "2e9eea00-49e5-432c-f902-8d7dff843a99"
      },
      "outputs": [
        {
          "data": {
            "text/html": [
              "<div>\n",
              "<style scoped>\n",
              "    .dataframe tbody tr th:only-of-type {\n",
              "        vertical-align: middle;\n",
              "    }\n",
              "\n",
              "    .dataframe tbody tr th {\n",
              "        vertical-align: top;\n",
              "    }\n",
              "\n",
              "    .dataframe thead th {\n",
              "        text-align: right;\n",
              "    }\n",
              "</style>\n",
              "<table border=\"1\" class=\"dataframe\">\n",
              "  <thead>\n",
              "    <tr style=\"text-align: right;\">\n",
              "      <th></th>\n",
              "      <th>0</th>\n",
              "    </tr>\n",
              "  </thead>\n",
              "  <tbody>\n",
              "    <tr>\n",
              "      <th>text</th>\n",
              "      <td>0</td>\n",
              "    </tr>\n",
              "    <tr>\n",
              "      <th>spam</th>\n",
              "      <td>0</td>\n",
              "    </tr>\n",
              "  </tbody>\n",
              "</table>\n",
              "</div><br><label><b>dtype:</b> int64</label>"
            ],
            "text/plain": [
              "text    0\n",
              "spam    0\n",
              "dtype: int64"
            ]
          },
          "execution_count": 8,
          "metadata": {},
          "output_type": "execute_result"
        }
      ],
      "source": [
        "#checking missing values\n",
        "df1.isnull().sum()\n",
        "df2.isnull().sum()"
      ]
    },
    {
      "cell_type": "markdown",
      "metadata": {
        "id": "Vtm5bjizlLl7"
      },
      "source": [
        "Cheching Duplicate values"
      ]
    },
    {
      "cell_type": "code",
      "execution_count": null,
      "metadata": {
        "colab": {
          "base_uri": "https://localhost:8080/"
        },
        "id": "WYSzpF2GlUwZ",
        "outputId": "803fe69d-8fc5-4e9f-c5e0-b9aa023eb83f"
      },
      "outputs": [
        {
          "data": {
            "text/plain": [
              "np.int64(21434)"
            ]
          },
          "execution_count": 9,
          "metadata": {},
          "output_type": "execute_result"
        }
      ],
      "source": [
        "df1.duplicated().sum()\n",
        "df2.duplicated().sum()"
      ]
    },
    {
      "cell_type": "markdown",
      "metadata": {
        "id": "XqXWEzNGlXwV"
      },
      "source": [
        " Remove Duplicate values"
      ]
    },
    {
      "cell_type": "code",
      "execution_count": null,
      "metadata": {
        "id": "kXlTmOm8lcDE"
      },
      "outputs": [],
      "source": [
        "df1 = df1.drop_duplicates(keep='first')\n",
        "df2 = df2.drop_duplicates(keep='first')"
      ]
    },
    {
      "cell_type": "markdown",
      "metadata": {
        "id": "COOimBVjlimE"
      },
      "source": [
        "Shape of the Dataset"
      ]
    },
    {
      "cell_type": "code",
      "execution_count": null,
      "metadata": {
        "colab": {
          "base_uri": "https://localhost:8080/"
        },
        "id": "42UlJ9vilpe3",
        "outputId": "2ee1ebb6-afd9-4d14-8345-6de6bc9297a6"
      },
      "outputs": [
        {
          "data": {
            "text/plain": [
              "(9687, 2)"
            ]
          },
          "execution_count": 11,
          "metadata": {},
          "output_type": "execute_result"
        }
      ],
      "source": [
        "df1.shape"
      ]
    },
    {
      "cell_type": "code",
      "execution_count": null,
      "metadata": {
        "colab": {
          "base_uri": "https://localhost:8080/"
        },
        "id": "nWJnB2UIfPPn",
        "outputId": "c75b6fea-a217-4240-ac45-3afa4cf20e84"
      },
      "outputs": [
        {
          "data": {
            "text/plain": [
              "(97714, 2)"
            ]
          },
          "execution_count": 12,
          "metadata": {},
          "output_type": "execute_result"
        }
      ],
      "source": [
        "df2.shape"
      ]
    },
    {
      "cell_type": "markdown",
      "metadata": {
        "id": "MFvlJwnvl6Ny"
      },
      "source": [
        "*** EDA ***"
      ]
    },
    {
      "cell_type": "markdown",
      "metadata": {
        "id": "EfgV-Z6Kl__U"
      },
      "source": [
        "Percentage of Ham and Spam"
      ]
    },
    {
      "cell_type": "code",
      "execution_count": null,
      "metadata": {
        "id": "D1akAl-_FWT_"
      },
      "outputs": [],
      "source": [
        "# Sample new dataset to match old dataset size (9687)\n",
        "np.random.seed(42)\n",
        "n_total = 9687\n",
        "n_spam = int(n_total * df2['spam'].mean())\n",
        "n_ham = n_total - n_spam\n",
        "df2_sampled = pd.concat([\n",
        "    df2[df2['spam'] == 1].sample(n=n_spam, random_state=42),\n",
        "    df2[df2['spam'] == 0].sample(n=n_ham, random_state=42)\n",
        "]).sample(frac=1, random_state=42).reset_index(drop=True)"
      ]
    },
    {
      "cell_type": "code",
      "execution_count": null,
      "metadata": {
        "colab": {
          "base_uri": "https://localhost:8080/"
        },
        "id": "iPv_lnxnmBfX",
        "outputId": "477605a1-da64-4617-e457-3c358a892cc5"
      },
      "outputs": [
        {
          "name": "stdout",
          "output_type": "stream",
          "text": [
            "percentage of 0 for df1: 50.86197997315991\n",
            "percentage of 1 for df1: 49.138020026840096\n"
          ]
        }
      ],
      "source": [
        "# for first( old ) dataset\n",
        "values1 = df1['spam'].value_counts()\n",
        "total1 = values1.sum()\n",
        "\n",
        "percentage1_0 = (values1[0] /total1) * 100\n",
        "percentage1_1 = (values1[1]/ total1) *100\n",
        "print('percentage of 0 for df1:' ,percentage1_0)\n",
        "print('percentage of 1 for df1:' ,percentage1_1)\n",
        "\n",
        "\n"
      ]
    },
    {
      "cell_type": "code",
      "execution_count": null,
      "metadata": {
        "colab": {
          "base_uri": "https://localhost:8080/"
        },
        "id": "ts0N4LXSm4LY",
        "outputId": "eb369bb3-ab1b-4764-e58f-f8a3fb2ae43e"
      },
      "outputs": [
        {
          "name": "stdout",
          "output_type": "stream",
          "text": [
            "percentage of 0 for df2: 31.95959637308881\n",
            "percentage of 1 for df2: 68.0404036269112\n"
          ]
        }
      ],
      "source": [
        "# For second( new ) dataset\n",
        "values2 = df2['spam'].value_counts()\n",
        "total2 = values2.sum()\n",
        "\n",
        "percentage2_0 = (values2[0] /total2) * 100\n",
        "percentage2_1 = (values2[1]/ total2) *100\n",
        "\n",
        "print('percentage of 0 for df2:' ,percentage2_0)\n",
        "print('percentage of 1 for df2:' ,percentage2_1)"
      ]
    },
    {
      "cell_type": "code",
      "execution_count": null,
      "metadata": {
        "colab": {
          "base_uri": "https://localhost:8080/",
          "height": 522
        },
        "id": "I6VFdo8poFAc",
        "outputId": "d636228a-1564-45d3-fc9f-c912899845e6"
      },
      "outputs": [
        {
          "data": {
            "image/png": "[encoded data removed]",
            "text/plain": [
              "<Figure size 600x600 with 1 Axes>"
            ]
          },
          "metadata": {},
          "output_type": "display_data"
        }
      ],
      "source": [
        "# Calculate counts for df1\n",
        "values1 = df1['spam'].value_counts().sort_index()  # [ham, spam]\n",
        "\n",
        "# Calculate counts for df2\n",
        "values2 = df2['spam'].value_counts().sort_index()\n",
        "\n",
        "# Define labels and colors\n",
        "labels = ['ham', 'spam']\n",
        "colors = ['green', 'red']\n",
        "\n",
        "\n",
        "# ---- Pie Chart for df1 ----\n",
        "fig1, ax1 = plt.subplots(figsize=(6, 6))\n",
        "ax1.pie(\n",
        "    values1, labels=labels, autopct='%0.2f%%',\n",
        "    startangle=90, colors=colors,\n",
        "    wedgeprops={'linewidth': 2, 'edgecolor': 'white'}\n",
        ")\n",
        "ax1.set_title('Email Classification - Old Dataset (df1)', fontsize=14, fontweight='bold')\n",
        "ax1.axis('equal')  # Equal aspect ratio for perfect circle\n",
        "plt.show()\n"
      ]
    },
    {
      "cell_type": "code",
      "execution_count": null,
      "metadata": {
        "colab": {
          "base_uri": "https://localhost:8080/",
          "height": 522
        },
        "id": "l3uXRrnsw_Bt",
        "outputId": "16c04726-2493-4e17-f870-1500b12a9634"
      },
      "outputs": [
        {
          "data": {
            "image/png": "[encoded data removed]",
            "text/plain": [
              "<Figure size 600x600 with 1 Axes>"
            ]
          },
          "metadata": {},
          "output_type": "display_data"
        }
      ],
      "source": [
        "# ---- Pie Chart for df2 ----\n",
        "fig2, ax2 = plt.subplots(figsize=(6, 6))\n",
        "ax2.pie(\n",
        "    values2, labels=labels, autopct='%0.2f%%',\n",
        "    startangle=90, colors=colors,\n",
        "    wedgeprops={'linewidth': 2, 'edgecolor': 'white'}\n",
        ")\n",
        "ax2.set_title('Email Classification - New Emails (df2)', fontsize=14, fontweight='bold')\n",
        "ax2.axis('equal')\n",
        "plt.show()\n"
      ]
    },
    {
      "cell_type": "markdown",
      "metadata": {
        "id": "OiJ5Plk08H9T"
      },
      "source": [
        "Text Length and Structure Analysis"
      ]
    },
    {
      "cell_type": "code",
      "execution_count": null,
      "metadata": {
        "colab": {
          "base_uri": "https://localhost:8080/"
        },
        "id": "61YVh1ikxDnu",
        "outputId": "8fcfc0a4-97cd-4365-c9eb-4a33e809f4ac"
      },
      "outputs": [
        {
          "name": "stdout",
          "output_type": "stream",
          "text": [
            "       num_characters     num_words  num_sentences\n",
            "count     9687.000000   9687.000000    9687.000000\n",
            "mean      1533.592753    310.960669      16.479509\n",
            "std       3922.609088    775.167950      43.645979\n",
            "min         10.000000      1.000000       1.000000\n",
            "25%        353.000000     72.000000       4.000000\n",
            "50%        719.000000    151.000000       8.000000\n",
            "75%       1573.000000    326.000000      17.000000\n",
            "max     121502.000000  23344.000000    1202.000000\n"
          ]
        }
      ],
      "source": [
        "# Number of characters\n",
        "df1['num_characters'] = df1['text'].apply(len)\n",
        "\n",
        "# Number of words (split by spaces)\n",
        "df1['num_words'] = df1['text'].apply(lambda x: len(x.split()))\n",
        "\n",
        "# Number of sentences (count number of '.' + 1, rough approximation)\n",
        "df1['num_sentences'] = df1['text'].apply(lambda x: x.count('.') + 1)\n",
        "\n",
        "# View the statistics\n",
        "print(df1[['num_characters', 'num_words', 'num_sentences']].describe())"
      ]
    },
    {
      "cell_type": "code",
      "execution_count": null,
      "metadata": {
        "colab": {
          "base_uri": "https://localhost:8080/"
        },
        "id": "nNVQ1hva8Nd1",
        "outputId": "64ea444b-785f-4e8d-beff-8db1d57d1e66"
      },
      "outputs": [
        {
          "name": "stdout",
          "output_type": "stream",
          "text": [
            "       num_characters     num_words  num_sentences\n",
            "count    97714.000000  97714.000000   97714.000000\n",
            "mean      1397.605655    248.533639      24.194558\n",
            "std       2454.133053    468.082468      62.644623\n",
            "min          1.000000      0.000000       1.000000\n",
            "25%        383.000000     65.000000       6.000000\n",
            "50%        905.000000    155.000000      11.000000\n",
            "75%       1804.000000    314.000000      21.000000\n",
            "max      65535.000000  15828.000000    5243.000000\n"
          ]
        }
      ],
      "source": [
        "# Number of characters\n",
        "df2['num_characters'] = df2['text'].apply(len)\n",
        "\n",
        "# Number of words (split by spaces)\n",
        "df2['num_words'] = df2['text'].apply(lambda x: len(x.split()))\n",
        "\n",
        "# Number of sentences (count number of '.' + 1, rough approximation)\n",
        "df2['num_sentences'] = df2['text'].apply(lambda x: x.count('.') + 1)\n",
        "\n",
        "# View the statistics\n",
        "print(df2[['num_characters', 'num_words', 'num_sentences']].describe())"
      ]
    },
    {
      "cell_type": "markdown",
      "metadata": {
        "id": "gth3wCbd9epi"
      },
      "source": [
        "Summary Statistics for Legitimate Messages"
      ]
    },
    {
      "cell_type": "code",
      "execution_count": null,
      "metadata": {
        "colab": {
          "base_uri": "https://localhost:8080/",
          "height": 300
        },
        "id": "97etW_5l9fRU",
        "outputId": "27c1624f-8a1e-41f4-f35a-42aeb4525de3"
      },
      "outputs": [
        {
          "data": {
            "application/vnd.google.colaboratory.intrinsic+json": {
              "summary": "{\n  \"name\": \"df1[df1['spam'] == 0][['num_characters', 'num_words', 'num_sentences']]\",\n  \"rows\": 8,\n  \"fields\": [\n    {\n      \"column\": \"num_characters\",\n      \"properties\": {\n        \"dtype\": \"number\",\n        \"std\": 42262.75320460674,\n        \"min\": 17.0,\n        \"max\": 121502.0,\n        \"num_unique_values\": 8,\n        \"samples\": [\n          1715.6340572356403,\n          800.0,\n          4927.0\n        ],\n        \"semantic_type\": \"\",\n        \"description\": \"\"\n      }\n    },\n    {\n      \"column\": \"num_words\",\n      \"properties\": {\n        \"dtype\": \"number\",\n        \"std\": 8072.110762358778,\n        \"min\": 2.0,\n        \"max\": 23344.0,\n        \"num_unique_values\": 8,\n        \"samples\": [\n          357.3547797848589,\n          172.0,\n          4927.0\n        ],\n        \"semantic_type\": \"\",\n        \"description\": \"\"\n      }\n    },\n    {\n      \"column\": \"num_sentences\",\n      \"properties\": {\n        \"dtype\": \"number\",\n        \"std\": 1726.566304588249,\n        \"min\": 1.0,\n        \"max\": 4927.0,\n        \"num_unique_values\": 8,\n        \"samples\": [\n          17.69616399431703,\n          8.0,\n          4927.0\n        ],\n        \"semantic_type\": \"\",\n        \"description\": \"\"\n      }\n    }\n  ]\n}",
              "type": "dataframe"
            },
            "text/html": [
              "\n",
              "  <div id=\"df-6532940b-4042-4b0d-889b-a0e88c0b5292\" class=\"colab-df-container\">\n",
              "    <div>\n",
              "<style scoped>\n",
              "    .dataframe tbody tr th:only-of-type {\n",
              "        vertical-align: middle;\n",
              "    }\n",
              "\n",
              "    .dataframe tbody tr th {\n",
              "        vertical-align: top;\n",
              "    }\n",
              "\n",
              "    .dataframe thead th {\n",
              "        text-align: right;\n",
              "    }\n",
              "</style>\n",
              "<table border=\"1\" class=\"dataframe\">\n",
              "  <thead>\n",
              "    <tr style=\"text-align: right;\">\n",
              "      <th></th>\n",
              "      <th>num_characters</th>\n",
              "      <th>num_words</th>\n",
              "      <th>num_sentences</th>\n",
              "    </tr>\n",
              "  </thead>\n",
              "  <tbody>\n",
              "    <tr>\n",
              "      <th>count</th>\n",
              "      <td>4927.000000</td>\n",
              "      <td>4927.000000</td>\n",
              "      <td>4927.000000</td>\n",
              "    </tr>\n",
              "    <tr>\n",
              "      <th>mean</th>\n",
              "      <td>1715.634057</td>\n",
              "      <td>357.354780</td>\n",
              "      <td>17.696164</td>\n",
              "    </tr>\n",
              "    <tr>\n",
              "      <th>std</th>\n",
              "      <td>5123.233206</td>\n",
              "      <td>1013.907653</td>\n",
              "      <td>56.637127</td>\n",
              "    </tr>\n",
              "    <tr>\n",
              "      <th>min</th>\n",
              "      <td>17.000000</td>\n",
              "      <td>2.000000</td>\n",
              "      <td>1.000000</td>\n",
              "    </tr>\n",
              "    <tr>\n",
              "      <th>25%</th>\n",
              "      <td>353.500000</td>\n",
              "      <td>73.000000</td>\n",
              "      <td>4.000000</td>\n",
              "    </tr>\n",
              "    <tr>\n",
              "      <th>50%</th>\n",
              "      <td>800.000000</td>\n",
              "      <td>172.000000</td>\n",
              "      <td>8.000000</td>\n",
              "    </tr>\n",
              "    <tr>\n",
              "      <th>75%</th>\n",
              "      <td>1705.500000</td>\n",
              "      <td>367.000000</td>\n",
              "      <td>17.000000</td>\n",
              "    </tr>\n",
              "    <tr>\n",
              "      <th>max</th>\n",
              "      <td>121502.000000</td>\n",
              "      <td>23344.000000</td>\n",
              "      <td>1202.000000</td>\n",
              "    </tr>\n",
              "  </tbody>\n",
              "</table>\n",
              "</div>\n",
              "    <div class=\"colab-df-buttons\">\n",
              "\n",
              "  <div class=\"colab-df-container\">\n",
              "    <button class=\"colab-df-convert\" onclick=\"convertToInteractive('df-6532940b-4042-4b0d-889b-a0e88c0b5292')\"\n",
              "            title=\"Convert this dataframe to an interactive table.\"\n",
              "            style=\"display:none;\">\n",
              "\n",
              "  <svg xmlns=\"http://www.w3.org/2000/svg\" height=\"24px\" viewBox=\"0 -960 960 960\">\n",
              "    <path d=\"M120-120v-720h720v720H120Zm60-500h600v-160H180v160Zm220 220h160v-160H400v160Zm0 220h160v-160H400v160ZM180-400h160v-160H180v160Zm440 0h160v-160H620v160ZM180-180h160v-160H180v160Zm440 0h160v-160H620v160Z\"/>\n",
              "  </svg>\n",
              "    </button>\n",
              "\n",
              "  <style>\n",
              "    .colab-df-container {\n",
              "      display:flex;\n",
              "      gap: 12px;\n",
              "    }\n",
              "\n",
              "    .colab-df-convert {\n",
              "      background-color: #E8F0FE;\n",
              "      border: none;\n",
              "      border-radius: 50%;\n",
              "      cursor: pointer;\n",
              "      display: none;\n",
              "      fill: #1967D2;\n",
              "      height: 32px;\n",
              "      padding: 0 0 0 0;\n",
              "      width: 32px;\n",
              "    }\n",
              "\n",
              "    .colab-df-convert:hover {\n",
              "      background-color: #E2EBFA;\n",
              "      box-shadow: 0px 1px 2px rgba(60, 64, 67, 0.3), 0px 1px 3px 1px rgba(60, 64, 67, 0.15);\n",
              "      fill: #174EA6;\n",
              "    }\n",
              "\n",
              "    .colab-df-buttons div {\n",
              "      margin-bottom: 4px;\n",
              "    }\n",
              "\n",
              "    [theme=dark] .colab-df-convert {\n",
              "      background-color: #3B4455;\n",
              "      fill: #D2E3FC;\n",
              "    }\n",
              "\n",
              "    [theme=dark] .colab-df-convert:hover {\n",
              "      background-color: #434B5C;\n",
              "      box-shadow: 0px 1px 3px 1px rgba(0, 0, 0, 0.15);\n",
              "      filter: drop-shadow(0px 1px 2px rgba(0, 0, 0, 0.3));\n",
              "      fill: #FFFFFF;\n",
              "    }\n",
              "  </style>\n",
              "\n",
              "    <script>\n",
              "      const buttonEl =\n",
              "        document.querySelector('#df-6532940b-4042-4b0d-889b-a0e88c0b5292 button.colab-df-convert');\n",
              "      buttonEl.style.display =\n",
              "        google.colab.kernel.accessAllowed ? 'block' : 'none';\n",
              "\n",
              "      async function convertToInteractive(key) {\n",
              "        const element = document.querySelector('#df-6532940b-4042-4b0d-889b-a0e88c0b5292');\n",
              "        const dataTable =\n",
              "          await google.colab.kernel.invokeFunction('convertToInteractive',\n",
              "                                                    [key], {});\n",
              "        if (!dataTable) return;\n",
              "\n",
              "        const docLinkHtml = 'Like what you see? Visit the ' +\n",
              "          '<a target=\"_blank\" href=https://colab.research.google.com/notebooks/data_table.ipynb>data table notebook</a>'\n",
              "          + ' to learn more about interactive tables.';\n",
              "        element.innerHTML = '';\n",
              "        dataTable['output_type'] = 'display_data';\n",
              "        await google.colab.output.renderOutput(dataTable, element);\n",
              "        const docLink = document.createElement('div');\n",
              "        docLink.innerHTML = docLinkHtml;\n",
              "        element.appendChild(docLink);\n",
              "      }\n",
              "    </script>\n",
              "  </div>\n",
              "\n",
              "\n",
              "    <div id=\"df-a2c86eb9-ed94-46b3-ab43-8ec6f0398402\">\n",
              "      <button class=\"colab-df-quickchart\" onclick=\"quickchart('df-a2c86eb9-ed94-46b3-ab43-8ec6f0398402')\"\n",
              "                title=\"Suggest charts\"\n",
              "                style=\"display:none;\">\n",
              "\n",
              "<svg xmlns=\"http://www.w3.org/2000/svg\" height=\"24px\"viewBox=\"0 0 24 24\"\n",
              "     width=\"24px\">\n",
              "    <g>\n",
              "        <path d=\"M19 3H5c-1.1 0-2 .9-2 2v14c0 1.1.9 2 2 2h14c1.1 0 2-.9 2-2V5c0-1.1-.9-2-2-2zM9 17H7v-7h2v7zm4 0h-2V7h2v10zm4 0h-2v-4h2v4z\"/>\n",
              "    </g>\n",
              "</svg>\n",
              "      </button>\n",
              "\n",
              "<style>\n",
              "  .colab-df-quickchart {\n",
              "      --bg-color: #E8F0FE;\n",
              "      --fill-color: #1967D2;\n",
              "      --hover-bg-color: #E2EBFA;\n",
              "      --hover-fill-color: #174EA6;\n",
              "      --disabled-fill-color: #AAA;\n",
              "      --disabled-bg-color: #DDD;\n",
              "  }\n",
              "\n",
              "  [theme=dark] .colab-df-quickchart {\n",
              "      --bg-color: #3B4455;\n",
              "      --fill-color: #D2E3FC;\n",
              "      --hover-bg-color: #434B5C;\n",
              "      --hover-fill-color: #FFFFFF;\n",
              "      --disabled-bg-color: #3B4455;\n",
              "      --disabled-fill-color: #666;\n",
              "  }\n",
              "\n",
              "  .colab-df-quickchart {\n",
              "    background-color: var(--bg-color);\n",
              "    border: none;\n",
              "    border-radius: 50%;\n",
              "    cursor: pointer;\n",
              "    display: none;\n",
              "    fill: var(--fill-color);\n",
              "    height: 32px;\n",
              "    padding: 0;\n",
              "    width: 32px;\n",
              "  }\n",
              "\n",
              "  .colab-df-quickchart:hover {\n",
              "    background-color: var(--hover-bg-color);\n",
              "    box-shadow: 0 1px 2px rgba(60, 64, 67, 0.3), 0 1px 3px 1px rgba(60, 64, 67, 0.15);\n",
              "    fill: var(--button-hover-fill-color);\n",
              "  }\n",
              "\n",
              "  .colab-df-quickchart-complete:disabled,\n",
              "  .colab-df-quickchart-complete:disabled:hover {\n",
              "    background-color: var(--disabled-bg-color);\n",
              "    fill: var(--disabled-fill-color);\n",
              "    box-shadow: none;\n",
              "  }\n",
              "\n",
              "  .colab-df-spinner {\n",
              "    border: 2px solid var(--fill-color);\n",
              "    border-color: transparent;\n",
              "    border-bottom-color: var(--fill-color);\n",
              "    animation:\n",
              "      spin 1s steps(1) infinite;\n",
              "  }\n",
              "\n",
              "  @keyframes spin {\n",
              "    0% {\n",
              "      border-color: transparent;\n",
              "      border-bottom-color: var(--fill-color);\n",
              "      border-left-color: var(--fill-color);\n",
              "    }\n",
              "    20% {\n",
              "      border-color: transparent;\n",
              "      border-left-color: var(--fill-color);\n",
              "      border-top-color: var(--fill-color);\n",
              "    }\n",
              "    30% {\n",
              "      border-color: transparent;\n",
              "      border-left-color: var(--fill-color);\n",
              "      border-top-color: var(--fill-color);\n",
              "      border-right-color: var(--fill-color);\n",
              "    }\n",
              "    40% {\n",
              "      border-color: transparent;\n",
              "      border-right-color: var(--fill-color);\n",
              "      border-top-color: var(--fill-color);\n",
              "    }\n",
              "    60% {\n",
              "      border-color: transparent;\n",
              "      border-right-color: var(--fill-color);\n",
              "    }\n",
              "    80% {\n",
              "      border-color: transparent;\n",
              "      border-right-color: var(--fill-color);\n",
              "      border-bottom-color: var(--fill-color);\n",
              "    }\n",
              "    90% {\n",
              "      border-color: transparent;\n",
              "      border-bottom-color: var(--fill-color);\n",
              "    }\n",
              "  }\n",
              "</style>\n",
              "\n",
              "      <script>\n",
              "        async function quickchart(key) {\n",
              "          const quickchartButtonEl =\n",
              "            document.querySelector('#' + key + ' button');\n",
              "          quickchartButtonEl.disabled = true;  // To prevent multiple clicks.\n",
              "          quickchartButtonEl.classList.add('colab-df-spinner');\n",
              "          try {\n",
              "            const charts = await google.colab.kernel.invokeFunction(\n",
              "                'suggestCharts', [key], {});\n",
              "          } catch (error) {\n",
              "            console.error('Error during call to suggestCharts:', error);\n",
              "          }\n",
              "          quickchartButtonEl.classList.remove('colab-df-spinner');\n",
              "          quickchartButtonEl.classList.add('colab-df-quickchart-complete');\n",
              "        }\n",
              "        (() => {\n",
              "          let quickchartButtonEl =\n",
              "            document.querySelector('#df-a2c86eb9-ed94-46b3-ab43-8ec6f0398402 button');\n",
              "          quickchartButtonEl.style.display =\n",
              "            google.colab.kernel.accessAllowed ? 'block' : 'none';\n",
              "        })();\n",
              "      </script>\n",
              "    </div>\n",
              "\n",
              "    </div>\n",
              "  </div>\n"
            ],
            "text/plain": [
              "       num_characters     num_words  num_sentences\n",
              "count     4927.000000   4927.000000    4927.000000\n",
              "mean      1715.634057    357.354780      17.696164\n",
              "std       5123.233206   1013.907653      56.637127\n",
              "min         17.000000      2.000000       1.000000\n",
              "25%        353.500000     73.000000       4.000000\n",
              "50%        800.000000    172.000000       8.000000\n",
              "75%       1705.500000    367.000000      17.000000\n",
              "max     121502.000000  23344.000000    1202.000000"
            ]
          },
          "execution_count": 19,
          "metadata": {},
          "output_type": "execute_result"
        }
      ],
      "source": [
        "#ham\n",
        "df1[df1['spam'] == 0][['num_characters', 'num_words', 'num_sentences']].describe()\n"
      ]
    },
    {
      "cell_type": "code",
      "execution_count": null,
      "metadata": {
        "colab": {
          "base_uri": "https://localhost:8080/",
          "height": 300
        },
        "id": "uUNcZEc9-0ZU",
        "outputId": "14939ada-b745-42b2-9f6e-3aae84078fb9"
      },
      "outputs": [
        {
          "data": {
            "application/vnd.google.colaboratory.intrinsic+json": {
              "summary": "{\n  \"name\": \"df2[df2['spam'] == 0][['num_characters', 'num_words', 'num_sentences']]\",\n  \"rows\": 8,\n  \"fields\": [\n    {\n      \"column\": \"num_characters\",\n      \"properties\": {\n        \"dtype\": \"number\",\n        \"std\": 23683.35259362282,\n        \"min\": 1.0,\n        \"max\": 65535.0,\n        \"num_unique_values\": 8,\n        \"samples\": [\n          1475.6476352108616,\n          671.0,\n          31229.0\n        ],\n        \"semantic_type\": \"\",\n        \"description\": \"\"\n      }\n    },\n    {\n      \"column\": \"num_words\",\n      \"properties\": {\n        \"dtype\": \"number\",\n        \"std\": 11535.247289725245,\n        \"min\": 1.0,\n        \"max\": 31229.0,\n        \"num_unique_values\": 8,\n        \"samples\": [\n          297.9686189119088,\n          135.0,\n          31229.0\n        ],\n        \"semantic_type\": \"\",\n        \"description\": \"\"\n      }\n    },\n    {\n      \"column\": \"num_sentences\",\n      \"properties\": {\n        \"dtype\": \"number\",\n        \"std\": 10947.51160873707,\n        \"min\": 1.0,\n        \"max\": 31229.0,\n        \"num_unique_values\": 8,\n        \"samples\": [\n          17.263441032373755,\n          8.0,\n          31229.0\n        ],\n        \"semantic_type\": \"\",\n        \"description\": \"\"\n      }\n    }\n  ]\n}",
              "type": "dataframe"
            },
            "text/html": [
              "\n",
              "  <div id=\"df-fe27dd26-a94c-4900-8c5e-1e563240f6e1\" class=\"colab-df-container\">\n",
              "    <div>\n",
              "<style scoped>\n",
              "    .dataframe tbody tr th:only-of-type {\n",
              "        vertical-align: middle;\n",
              "    }\n",
              "\n",
              "    .dataframe tbody tr th {\n",
              "        vertical-align: top;\n",
              "    }\n",
              "\n",
              "    .dataframe thead th {\n",
              "        text-align: right;\n",
              "    }\n",
              "</style>\n",
              "<table border=\"1\" class=\"dataframe\">\n",
              "  <thead>\n",
              "    <tr style=\"text-align: right;\">\n",
              "      <th></th>\n",
              "      <th>num_characters</th>\n",
              "      <th>num_words</th>\n",
              "      <th>num_sentences</th>\n",
              "    </tr>\n",
              "  </thead>\n",
              "  <tbody>\n",
              "    <tr>\n",
              "      <th>count</th>\n",
              "      <td>31229.000000</td>\n",
              "      <td>31229.000000</td>\n",
              "      <td>31229.000000</td>\n",
              "    </tr>\n",
              "    <tr>\n",
              "      <th>mean</th>\n",
              "      <td>1475.647635</td>\n",
              "      <td>297.968619</td>\n",
              "      <td>17.263441</td>\n",
              "    </tr>\n",
              "    <tr>\n",
              "      <th>std</th>\n",
              "      <td>3747.569858</td>\n",
              "      <td>736.044051</td>\n",
              "      <td>47.468698</td>\n",
              "    </tr>\n",
              "    <tr>\n",
              "      <th>min</th>\n",
              "      <td>1.000000</td>\n",
              "      <td>1.000000</td>\n",
              "      <td>1.000000</td>\n",
              "    </tr>\n",
              "    <tr>\n",
              "      <th>25%</th>\n",
              "      <td>176.000000</td>\n",
              "      <td>34.000000</td>\n",
              "      <td>4.000000</td>\n",
              "    </tr>\n",
              "    <tr>\n",
              "      <th>50%</th>\n",
              "      <td>671.000000</td>\n",
              "      <td>135.000000</td>\n",
              "      <td>8.000000</td>\n",
              "    </tr>\n",
              "    <tr>\n",
              "      <th>75%</th>\n",
              "      <td>1587.000000</td>\n",
              "      <td>327.000000</td>\n",
              "      <td>17.000000</td>\n",
              "    </tr>\n",
              "    <tr>\n",
              "      <th>max</th>\n",
              "      <td>65535.000000</td>\n",
              "      <td>15828.000000</td>\n",
              "      <td>2377.000000</td>\n",
              "    </tr>\n",
              "  </tbody>\n",
              "</table>\n",
              "</div>\n",
              "    <div class=\"colab-df-buttons\">\n",
              "\n",
              "  <div class=\"colab-df-container\">\n",
              "    <button class=\"colab-df-convert\" onclick=\"convertToInteractive('df-fe27dd26-a94c-4900-8c5e-1e563240f6e1')\"\n",
              "            title=\"Convert this dataframe to an interactive table.\"\n",
              "            style=\"display:none;\">\n",
              "\n",
              "  <svg xmlns=\"http://www.w3.org/2000/svg\" height=\"24px\" viewBox=\"0 -960 960 960\">\n",
              "    <path d=\"M120-120v-720h720v720H120Zm60-500h600v-160H180v160Zm220 220h160v-160H400v160Zm0 220h160v-160H400v160ZM180-400h160v-160H180v160Zm440 0h160v-160H620v160ZM180-180h160v-160H180v160Zm440 0h160v-160H620v160Z\"/>\n",
              "  </svg>\n",
              "    </button>\n",
              "\n",
              "  <style>\n",
              "    .colab-df-container {\n",
              "      display:flex;\n",
              "      gap: 12px;\n",
              "    }\n",
              "\n",
              "    .colab-df-convert {\n",
              "      background-color: #E8F0FE;\n",
              "      border: none;\n",
              "      border-radius: 50%;\n",
              "      cursor: pointer;\n",
              "      display: none;\n",
              "      fill: #1967D2;\n",
              "      height: 32px;\n",
              "      padding: 0 0 0 0;\n",
              "      width: 32px;\n",
              "    }\n",
              "\n",
              "    .colab-df-convert:hover {\n",
              "      background-color: #E2EBFA;\n",
              "      box-shadow: 0px 1px 2px rgba(60, 64, 67, 0.3), 0px 1px 3px 1px rgba(60, 64, 67, 0.15);\n",
              "      fill: #174EA6;\n",
              "    }\n",
              "\n",
              "    .colab-df-buttons div {\n",
              "      margin-bottom: 4px;\n",
              "    }\n",
              "\n",
              "    [theme=dark] .colab-df-convert {\n",
              "      background-color: #3B4455;\n",
              "      fill: #D2E3FC;\n",
              "    }\n",
              "\n",
              "    [theme=dark] .colab-df-convert:hover {\n",
              "      background-color: #434B5C;\n",
              "      box-shadow: 0px 1px 3px 1px rgba(0, 0, 0, 0.15);\n",
              "      filter: drop-shadow(0px 1px 2px rgba(0, 0, 0, 0.3));\n",
              "      fill: #FFFFFF;\n",
              "    }\n",
              "  </style>\n",
              "\n",
              "    <script>\n",
              "      const buttonEl =\n",
              "        document.querySelector('#df-fe27dd26-a94c-4900-8c5e-1e563240f6e1 button.colab-df-convert');\n",
              "      buttonEl.style.display =\n",
              "        google.colab.kernel.accessAllowed ? 'block' : 'none';\n",
              "\n",
              "      async function convertToInteractive(key) {\n",
              "        const element = document.querySelector('#df-fe27dd26-a94c-4900-8c5e-1e563240f6e1');\n",
              "        const dataTable =\n",
              "          await google.colab.kernel.invokeFunction('convertToInteractive',\n",
              "                                                    [key], {});\n",
              "        if (!dataTable) return;\n",
              "\n",
              "        const docLinkHtml = 'Like what you see? Visit the ' +\n",
              "          '<a target=\"_blank\" href=https://colab.research.google.com/notebooks/data_table.ipynb>data table notebook</a>'\n",
              "          + ' to learn more about interactive tables.';\n",
              "        element.innerHTML = '';\n",
              "        dataTable['output_type'] = 'display_data';\n",
              "        await google.colab.output.renderOutput(dataTable, element);\n",
              "        const docLink = document.createElement('div');\n",
              "        docLink.innerHTML = docLinkHtml;\n",
              "        element.appendChild(docLink);\n",
              "      }\n",
              "    </script>\n",
              "  </div>\n",
              "\n",
              "\n",
              "    <div id=\"df-0b0ded2f-887a-4c95-afee-57461a428837\">\n",
              "      <button class=\"colab-df-quickchart\" onclick=\"quickchart('df-0b0ded2f-887a-4c95-afee-57461a428837')\"\n",
              "                title=\"Suggest charts\"\n",
              "                style=\"display:none;\">\n",
              "\n",
              "<svg xmlns=\"http://www.w3.org/2000/svg\" height=\"24px\"viewBox=\"0 0 24 24\"\n",
              "     width=\"24px\">\n",
              "    <g>\n",
              "        <path d=\"M19 3H5c-1.1 0-2 .9-2 2v14c0 1.1.9 2 2 2h14c1.1 0 2-.9 2-2V5c0-1.1-.9-2-2-2zM9 17H7v-7h2v7zm4 0h-2V7h2v10zm4 0h-2v-4h2v4z\"/>\n",
              "    </g>\n",
              "</svg>\n",
              "      </button>\n",
              "\n",
              "<style>\n",
              "  .colab-df-quickchart {\n",
              "      --bg-color: #E8F0FE;\n",
              "      --fill-color: #1967D2;\n",
              "      --hover-bg-color: #E2EBFA;\n",
              "      --hover-fill-color: #174EA6;\n",
              "      --disabled-fill-color: #AAA;\n",
              "      --disabled-bg-color: #DDD;\n",
              "  }\n",
              "\n",
              "  [theme=dark] .colab-df-quickchart {\n",
              "      --bg-color: #3B4455;\n",
              "      --fill-color: #D2E3FC;\n",
              "      --hover-bg-color: #434B5C;\n",
              "      --hover-fill-color: #FFFFFF;\n",
              "      --disabled-bg-color: #3B4455;\n",
              "      --disabled-fill-color: #666;\n",
              "  }\n",
              "\n",
              "  .colab-df-quickchart {\n",
              "    background-color: var(--bg-color);\n",
              "    border: none;\n",
              "    border-radius: 50%;\n",
              "    cursor: pointer;\n",
              "    display: none;\n",
              "    fill: var(--fill-color);\n",
              "    height: 32px;\n",
              "    padding: 0;\n",
              "    width: 32px;\n",
              "  }\n",
              "\n",
              "  .colab-df-quickchart:hover {\n",
              "    background-color: var(--hover-bg-color);\n",
              "    box-shadow: 0 1px 2px rgba(60, 64, 67, 0.3), 0 1px 3px 1px rgba(60, 64, 67, 0.15);\n",
              "    fill: var(--button-hover-fill-color);\n",
              "  }\n",
              "\n",
              "  .colab-df-quickchart-complete:disabled,\n",
              "  .colab-df-quickchart-complete:disabled:hover {\n",
              "    background-color: var(--disabled-bg-color);\n",
              "    fill: var(--disabled-fill-color);\n",
              "    box-shadow: none;\n",
              "  }\n",
              "\n",
              "  .colab-df-spinner {\n",
              "    border: 2px solid var(--fill-color);\n",
              "    border-color: transparent;\n",
              "    border-bottom-color: var(--fill-color);\n",
              "    animation:\n",
              "      spin 1s steps(1) infinite;\n",
              "  }\n",
              "\n",
              "  @keyframes spin {\n",
              "    0% {\n",
              "      border-color: transparent;\n",
              "      border-bottom-color: var(--fill-color);\n",
              "      border-left-color: var(--fill-color);\n",
              "    }\n",
              "    20% {\n",
              "      border-color: transparent;\n",
              "      border-left-color: var(--fill-color);\n",
              "      border-top-color: var(--fill-color);\n",
              "    }\n",
              "    30% {\n",
              "      border-color: transparent;\n",
              "      border-left-color: var(--fill-color);\n",
              "      border-top-color: var(--fill-color);\n",
              "      border-right-color: var(--fill-color);\n",
              "    }\n",
              "    40% {\n",
              "      border-color: transparent;\n",
              "      border-right-color: var(--fill-color);\n",
              "      border-top-color: var(--fill-color);\n",
              "    }\n",
              "    60% {\n",
              "      border-color: transparent;\n",
              "      border-right-color: var(--fill-color);\n",
              "    }\n",
              "    80% {\n",
              "      border-color: transparent;\n",
              "      border-right-color: var(--fill-color);\n",
              "      border-bottom-color: var(--fill-color);\n",
              "    }\n",
              "    90% {\n",
              "      border-color: transparent;\n",
              "      border-bottom-color: var(--fill-color);\n",
              "    }\n",
              "  }\n",
              "</style>\n",
              "\n",
              "      <script>\n",
              "        async function quickchart(key) {\n",
              "          const quickchartButtonEl =\n",
              "            document.querySelector('#' + key + ' button');\n",
              "          quickchartButtonEl.disabled = true;  // To prevent multiple clicks.\n",
              "          quickchartButtonEl.classList.add('colab-df-spinner');\n",
              "          try {\n",
              "            const charts = await google.colab.kernel.invokeFunction(\n",
              "                'suggestCharts', [key], {});\n",
              "          } catch (error) {\n",
              "            console.error('Error during call to suggestCharts:', error);\n",
              "          }\n",
              "          quickchartButtonEl.classList.remove('colab-df-spinner');\n",
              "          quickchartButtonEl.classList.add('colab-df-quickchart-complete');\n",
              "        }\n",
              "        (() => {\n",
              "          let quickchartButtonEl =\n",
              "            document.querySelector('#df-0b0ded2f-887a-4c95-afee-57461a428837 button');\n",
              "          quickchartButtonEl.style.display =\n",
              "            google.colab.kernel.accessAllowed ? 'block' : 'none';\n",
              "        })();\n",
              "      </script>\n",
              "    </div>\n",
              "\n",
              "    </div>\n",
              "  </div>\n"
            ],
            "text/plain": [
              "       num_characters     num_words  num_sentences\n",
              "count    31229.000000  31229.000000   31229.000000\n",
              "mean      1475.647635    297.968619      17.263441\n",
              "std       3747.569858    736.044051      47.468698\n",
              "min          1.000000      1.000000       1.000000\n",
              "25%        176.000000     34.000000       4.000000\n",
              "50%        671.000000    135.000000       8.000000\n",
              "75%       1587.000000    327.000000      17.000000\n",
              "max      65535.000000  15828.000000    2377.000000"
            ]
          },
          "execution_count": 20,
          "metadata": {},
          "output_type": "execute_result"
        }
      ],
      "source": [
        "#ham\n",
        "df2[df2['spam'] == 0][['num_characters', 'num_words', 'num_sentences']].describe()\n"
      ]
    },
    {
      "cell_type": "markdown",
      "metadata": {
        "id": "ECjruHU2-403"
      },
      "source": [
        "Character Length Distribution for Legitimate and Spam Messages"
      ]
    },
    {
      "cell_type": "code",
      "execution_count": null,
      "metadata": {
        "colab": {
          "base_uri": "https://localhost:8080/",
          "height": 479
        },
        "id": "jkRwqq6l_GNM",
        "outputId": "d6e68104-2991-4d0d-bb81-275f1eeccaf2"
      },
      "outputs": [
        {
          "data": {
            "image/png": "[encoded data removed]",
            "text/plain": [
              "<Figure size 640x480 with 1 Axes>"
            ]
          },
          "metadata": {},
          "output_type": "display_data"
        }
      ],
      "source": [
        "# Plot the histogram for target 0 in blue\n",
        "sns.histplot(df1[df1['spam'] == 0]['num_characters'], color='blue', label='ham', kde=True)\n",
        "\n",
        "# Plot the histogram for target 1 in red\n",
        "sns.histplot(df1[df1['spam'] == 1]['num_characters'], color='red', label='Spam', kde=True)\n",
        "# Add labels and a title\n",
        "plt.xlabel('Number of Characters', fontsize=14)\n",
        "plt.ylabel('Frequency', fontsize=14)\n",
        "plt.title('Distribution of Number of Characters by Target', fontsize=16, fontweight='bold')\n",
        "\n",
        "# Add a legend\n",
        "plt.legend()\n",
        "\n",
        "# Show the plot\n",
        "plt.show()"
      ]
    },
    {
      "cell_type": "code",
      "execution_count": null,
      "metadata": {
        "colab": {
          "base_uri": "https://localhost:8080/",
          "height": 479
        },
        "id": "IDQ_Z4S7_m8U",
        "outputId": "c84fe940-89ff-41ea-9606-8d95019f15c7"
      },
      "outputs": [
        {
          "data": {
            "image/png": "[encoded data removed]",
            "text/plain": [
              "<Figure size 640x480 with 1 Axes>"
            ]
          },
          "metadata": {},
          "output_type": "display_data"
        }
      ],
      "source": [
        "# Plot the histogram for ham 0 in blue\n",
        "sns.histplot(df2[df2['spam'] == 0]['num_characters'], color='blue', label='ham', kde=True)\n",
        "\n",
        "# Plot the histogram for spam 1 in red\n",
        "sns.histplot(df2[df2['spam'] == 1]['num_characters'], color='red', label='Spam', kde=True)\n",
        "\n",
        "# Add labels and a title\n",
        "plt.xlabel('Number of Characters', fontsize=14)\n",
        "plt.ylabel('Frequency', fontsize=14)\n",
        "plt.title('Distribution of Number of Characters by Target', fontsize=16, fontweight='bold')\n",
        "\n",
        "# Add a legend\n",
        "plt.legend()\n",
        "# Show the plot\n",
        "plt.show()"
      ]
    },
    {
      "cell_type": "markdown",
      "metadata": {
        "id": "Ld4PILpY_uAU"
      },
      "source": [
        "Word Count Distribution for Legitimate and Spam Messages"
      ]
    },
    {
      "cell_type": "code",
      "execution_count": null,
      "metadata": {
        "colab": {
          "base_uri": "https://localhost:8080/",
          "height": 479
        },
        "id": "6D3d-JuP_xBl",
        "outputId": "f732b5db-b005-433c-be01-59a8885de140"
      },
      "outputs": [
        {
          "data": {
            "image/png": "[encoded data removed]",
            "text/plain": [
              "<Figure size 640x480 with 1 Axes>"
            ]
          },
          "metadata": {},
          "output_type": "display_data"
        }
      ],
      "source": [
        "# Plot the histogram for ham 0 in blue\n",
        "sns.histplot(df1[df1['spam'] == 0]['num_words'], color='blue', label='ham', kde=True)\n",
        "\n",
        "# Plot the histogram for spam 1 in red\n",
        "sns.histplot(df1[df1['spam'] == 1]['num_words'], color='red', label='spam', kde=True)\n",
        "\n",
        "# Add labels and a title\n",
        "plt.xlabel('Number of Words', fontsize=14)\n",
        "plt.ylabel('Frequency', fontsize=14)\n",
        "plt.title('Distribution of Number of Words by Target', fontsize=16, fontweight='bold')\n",
        "\n",
        "# Add a legend\n",
        "plt.legend()\n",
        "\n",
        "# Show the plot\n",
        "plt.show()"
      ]
    },
    {
      "cell_type": "code",
      "execution_count": null,
      "metadata": {
        "colab": {
          "base_uri": "https://localhost:8080/",
          "height": 479
        },
        "id": "O787hNLoAEXH",
        "outputId": "fc942d92-3fe7-4b16-8a59-aa9b674eadbf"
      },
      "outputs": [
        {
          "data": {
            "image/png": "[encoded data removed]",
            "text/plain": [
              "<Figure size 640x480 with 1 Axes>"
            ]
          },
          "metadata": {},
          "output_type": "display_data"
        }
      ],
      "source": [
        "# Plot the histogram for ham 0 in blue\n",
        "sns.histplot(df2[df2['spam'] == 0]['num_words'], color='blue', label='ham', kde=True)\n",
        "\n",
        "# Plot the histogram for spam 1 in red\n",
        "sns.histplot(df2[df2['spam'] == 1]['num_words'], color='red', label='spam', kde=True)\n",
        "\n",
        "# Add labels and a title\n",
        "plt.xlabel('Number of Words', fontsize=14)\n",
        "plt.ylabel('Frequency', fontsize=14)\n",
        "plt.title('Distribution of Number of Words by Target', fontsize=16, fontweight='bold')\n",
        "\n",
        "# Add a legend\n",
        "plt.legend()\n",
        "\n",
        "# Show the plot\n",
        "plt.show()"
      ]
    },
    {
      "cell_type": "markdown",
      "metadata": {
        "id": "kNyO6ct7AKds"
      },
      "source": [
        "Corelation for both dataset\n"
      ]
    },
    {
      "cell_type": "code",
      "execution_count": null,
      "metadata": {
        "id": "7Z0gxHXyAr9I"
      },
      "outputs": [],
      "source": [
        "# Correlation matrix for df1 (old)\n",
        "corr_df1 = df1[['num_characters', 'num_words', 'num_sentences', 'spam']].corr()\n",
        "\n",
        "# Correlation matrix for df2 (New)\n",
        "corr_df2 = df2[['num_characters', 'num_words', 'num_sentences', 'spam']].corr()\n"
      ]
    },
    {
      "cell_type": "code",
      "execution_count": null,
      "metadata": {
        "colab": {
          "base_uri": "https://localhost:8080/",
          "height": 452
        },
        "id": "Bm33xqhjAtTb",
        "outputId": "ff62bda5-5700-4729-c7e2-2fdc142b195a"
      },
      "outputs": [
        {
          "data": {
            "image/png": "[encoded data removed]",
            "text/plain": [
              "<Figure size 640x480 with 2 Axes>"
            ]
          },
          "metadata": {},
          "output_type": "display_data"
        }
      ],
      "source": [
        "# Heatmap for df1\n",
        "sns.heatmap(corr_df1, annot=True)\n",
        "plt.title('Correlation Matrix - Old Dataset (df1)')\n",
        "plt.show()"
      ]
    },
    {
      "cell_type": "code",
      "execution_count": null,
      "metadata": {
        "colab": {
          "base_uri": "https://localhost:8080/",
          "height": 452
        },
        "id": "37a-u3iEAzQZ",
        "outputId": "82428a11-44ca-4a58-8aac-2b5dd2d854be"
      },
      "outputs": [
        {
          "data": {
            "image/png": "[encoded data removed]",
            "text/plain": [
              "<Figure size 640x480 with 2 Axes>"
            ]
          },
          "metadata": {},
          "output_type": "display_data"
        }
      ],
      "source": [
        "# Heatmap for df2\n",
        "sns.heatmap(corr_df2, annot=True)\n",
        "plt.title('Correlation Matrix - New Emails (df2)')\n",
        "plt.show()"
      ]
    },
    {
      "cell_type": "markdown",
      "metadata": {
        "id": "Rg6DRWOLDhtZ"
      },
      "source": [
        "Text cleaning\n"
      ]
    },
    {
      "cell_type": "code",
      "execution_count": null,
      "metadata": {
        "id": "-oKnDyi7NU4j"
      },
      "outputs": [],
      "source": [
        "# # Basic common English stopwords\n",
        "stopwords_list = ['enron', 'the', 'to', 'and', 'of', 'a', 'in', 'for', 'is', 'that', 'on', 'it',\n",
        "                  'with', 'as', 'be', 'at', 'this', 'by', 'an', 'are', 'was', 'from', 'or','free', 'offer', 'win', 'prize']\n"
      ]
    },
    {
      "cell_type": "code",
      "execution_count": null,
      "metadata": {
        "id": "bmld5V00Djdk"
      },
      "outputs": [],
      "source": [
        "import string\n",
        "def simple_transform(text):\n",
        "    # Lowercase\n",
        "    text = text.lower()\n",
        "\n",
        "    # Remove punctuation\n",
        "    text = ''.join([char for char in text if char not in string.punctuation])\n",
        "\n",
        "    # Split into words\n",
        "    words = text.split()\n",
        "\n",
        "    # Remove stopwords manually\n",
        "    cleaned_words = [word for word in words if word not in stopwords_list]\n",
        "\n",
        "    return ' '.join(words)"
      ]
    },
    {
      "cell_type": "code",
      "execution_count": null,
      "metadata": {
        "id": "sMNhZNzWDpTz"
      },
      "outputs": [],
      "source": [
        "# Apply for old dataset\n",
        "df1['transformed_text'] = df1['text'].apply(simple_transform)\n",
        "\n",
        "# Apply for New dataset\n",
        "df2['transformed_text'] = df2['text'].apply(simple_transform)"
      ]
    },
    {
      "cell_type": "markdown",
      "metadata": {
        "id": "UH8pg_2TDu_G"
      },
      "source": [
        " Word Frequency for Spam and Ham (using pandas)"
      ]
    },
    {
      "cell_type": "code",
      "execution_count": null,
      "metadata": {
        "id": "AH_PCYBeDx7n"
      },
      "outputs": [],
      "source": [
        "def plot_top_words(df, label, title):\n",
        "    # Select only spam or ham\n",
        "    data = df[df['spam'] == label]['transformed_text']\n",
        "\n",
        "    # Split all texts into words\n",
        "    all_words = ' '.join(data).split()\n",
        "\n",
        "    # Create a pandas Series and count word frequencies\n",
        "    word_freq = pd.Series(all_words).value_counts().head(30)\n",
        "\n",
        "    # Plot\n",
        "    plt.figure(figsize=(15,5))\n",
        "    sns.barplot(x=word_freq.index, y=word_freq.values, palette='coolwarm')\n",
        "    plt.title(title, fontsize=16)\n",
        "    plt.xticks(rotation=90)\n",
        "    plt.ylabel('Frequency')\n",
        "    plt.xlabel('Words')\n",
        "    plt.show()\n"
      ]
    },
    {
      "cell_type": "code",
      "execution_count": null,
      "metadata": {
        "id": "-4GLxEgeQcpO"
      },
      "outputs": [],
      "source": [
        "\n",
        "from collections import Counter"
      ]
    },
    {
      "cell_type": "code",
      "execution_count": null,
      "metadata": {
        "id": "k-82mWZuD7gW"
      },
      "outputs": [],
      "source": [
        "# old Dataset\n",
        "spam_carpos = []\n",
        "for sentence in df1[df1['spam'] == 1]['transformed_text'].tolist():\n",
        "    for word in sentence.split():\n",
        "        spam_carpos.append(word)\n",
        "\n",
        "ham_carpos = []\n",
        "for sentence in df1[df1['spam'] == 0]['transformed_text'].tolist():\n",
        "    for word in sentence.split():\n",
        "        ham_carpos.append(word)\n",
        "\n",
        "filter_df1 = pd.DataFrame(Counter(spam_carpos).most_common(30))"
      ]
    },
    {
      "cell_type": "code",
      "execution_count": null,
      "metadata": {
        "colab": {
          "base_uri": "https://localhost:8080/",
          "height": 575
        },
        "id": "jSAfx8pYQpty",
        "outputId": "23ebdf7f-190f-45fc-d263-c88f8cf207fe"
      },
      "outputs": [
        {
          "name": "stderr",
          "output_type": "stream",
          "text": [
            "<ipython-input-34-d0efad8c02cf>:1: FutureWarning: \n",
            "\n",
            "Passing `palette` without assigning `hue` is deprecated and will be removed in v0.14.0. Assign the `x` variable to `hue` and set `legend=False` for the same effect.\n",
            "\n",
            "  sns.barplot(data = filter_df1, x = filter_df1[0], y = filter_df1[1], palette = 'bright')\n"
          ]
        },
        {
          "data": {
            "image/png": "[encoded data removed]",
            "text/plain": [
              "<Figure size 640x480 with 1 Axes>"
            ]
          },
          "metadata": {},
          "output_type": "display_data"
        }
      ],
      "source": [
        "sns.barplot(data = filter_df1, x = filter_df1[0], y = filter_df1[1], palette = 'bright')\n",
        "plt.xticks(rotation = 90)\n",
        "plt.show()"
      ]
    },
    {
      "cell_type": "code",
      "execution_count": null,
      "metadata": {
        "colab": {
          "base_uri": "https://localhost:8080/",
          "height": 575
        },
        "id": "NztLMp6lQUxr",
        "outputId": "62780d2c-aee7-4a96-e84f-ad944a1a3baa"
      },
      "outputs": [
        {
          "name": "stderr",
          "output_type": "stream",
          "text": [
            "<ipython-input-35-cc52516b2819>:8: FutureWarning: \n",
            "\n",
            "Passing `palette` without assigning `hue` is deprecated and will be removed in v0.14.0. Assign the `x` variable to `hue` and set `legend=False` for the same effect.\n",
            "\n",
            "  sns.barplot(data = filter_df2, x = filter_df2[0], y = filter_df2[1], palette = 'bright')\n"
          ]
        },
        {
          "data": {
            "image/png": "[encoded data removed]",
            "text/plain": [
              "<Figure size 640x480 with 1 Axes>"
            ]
          },
          "metadata": {},
          "output_type": "display_data"
        }
      ],
      "source": [
        "# new Dataset\n",
        "spam_carpos_new = []\n",
        "for sentence in df2[df2['spam'] == 1]['transformed_text'].tolist():\n",
        "    for word in sentence.split():\n",
        "        spam_carpos_new.append(word)\n",
        "\n",
        "filter_df2 = pd.DataFrame(Counter(spam_carpos).most_common(30))\n",
        "sns.barplot(data = filter_df2, x = filter_df2[0], y = filter_df2[1], palette = 'bright')\n",
        "plt.xticks(rotation = 90)\n",
        "plt.show()"
      ]
    },
    {
      "cell_type": "markdown",
      "metadata": {
        "id": "LgY3zUcWFo0B"
      },
      "source": [
        "*** the, to, and, a, you, in, for, etc. ***"
      ]
    },
    {
      "cell_type": "markdown",
      "metadata": {
        "id": "B7Bon6ZREqYH"
      },
      "source": [
        "Old dataset (early 2000s emails) mostly has formal corporate English.\n",
        "\n",
        "Spam emails back then were not tricky — they looked almost the same as normal business emails!\n",
        "\n",
        "That's why word frequency in spam and ham is very similar.\n",
        "\n",
        "✨ This is an important point we should mention in our project report!\n",
        "\n",
        "\n",
        "In the older datasets like old, the language structure of spam and ham emails is very similar, causing traditional ML models (like Decision Trees) to achieve good accuracy.\n",
        "However, in modern spam emails, attackers use sophisticated tricks, emojis, hidden links, shortening text, making the language structure very different — thus traditional ML models fail there, and deep learning (NLP) models perform better.\n",
        "\n"
      ]
    },
    {
      "cell_type": "markdown",
      "metadata": {
        "id": "v1X6A-j4FrTr"
      },
      "source": [
        "** the, to, and, of, you, in, for, is, that, with **"
      ]
    },
    {
      "cell_type": "markdown",
      "metadata": {
        "id": "ML0MaHkzGs6N"
      },
      "source": [
        "\"Since we did not remove common English stopwords, the most frequent words in both spam and ham emails appear similar.\n",
        "To better differentiate spam content, advanced preprocessing like stopword removal and keyword extraction would be necessary.\""
      ]
    },
    {
      "cell_type": "markdown",
      "metadata": {
        "id": "dQuMJrf6A7xu"
      },
      "source": []
    },
    {
      "cell_type": "code",
      "execution_count": null,
      "metadata": {
        "id": "L533swBfOC-G"
      },
      "outputs": [],
      "source": [
        "from sklearn.feature_extraction.text import TfidfVectorizer\n",
        "\n",
        "# Create TF-IDF vectorizer\n",
        "tfidf = TfidfVectorizer(max_features=3000)\n",
        "\n",
        "# For Old dataset\n",
        "X1 = tfidf.fit_transform(df1['transformed_text']).toarray()\n",
        "y1 = df1['spam']\n",
        "\n",
        "# For New Emails dataset\n",
        "X2 = tfidf.fit_transform(df2['transformed_text']).toarray()\n",
        "y2 = df2['spam']\n"
      ]
    },
    {
      "cell_type": "markdown",
      "metadata": {
        "id": "ReobxVQwOL7s"
      },
      "source": [
        "Find the mutual Information"
      ]
    },
    {
      "cell_type": "code",
      "execution_count": null,
      "metadata": {
        "id": "0s63gr6JOJ77"
      },
      "outputs": [],
      "source": [
        "from sklearn.feature_selection import mutual_info_classif\n",
        "# For old\n",
        "mi_scores1 = mutual_info_classif(X1, y1)\n",
        "\n",
        "# For New Emails\n",
        "mi_scores2 = mutual_info_classif(X2, y2)\n",
        "\n",
        "# Get feature names\n",
        "feature_names1 = tfidf.get_feature_names_out()\n",
        "feature_names2 = tfidf.get_feature_names_out()\n"
      ]
    },
    {
      "cell_type": "markdown",
      "metadata": {
        "id": "whSPeULUOQ_s"
      },
      "source": []
    },
    {
      "cell_type": "code",
      "execution_count": null,
      "metadata": {
        "colab": {
          "base_uri": "https://localhost:8080/",
          "height": 216
        },
        "id": "zDenHOGPOQyZ",
        "outputId": "462ecac9-cf46-4b3d-b0dc-87312b581542"
      },
      "outputs": [
        {
          "ename": "NameError",
          "evalue": "name 'mi_scores1' is not defined",
          "output_type": "error",
          "traceback": [
            "\u001b[0;31m---------------------------------------------------------------------------\u001b[0m",
            "\u001b[0;31mNameError\u001b[0m                                 Traceback (most recent call last)",
            "\u001b[0;32m<ipython-input-37-c2153c93cfe3>\u001b[0m in \u001b[0;36m<cell line: 0>\u001b[0;34m()\u001b[0m\n\u001b[1;32m     11\u001b[0m \u001b[0;34m\u001b[0m\u001b[0m\n\u001b[1;32m     12\u001b[0m \u001b[0;31m# Enron dataset\u001b[0m\u001b[0;34m\u001b[0m\u001b[0;34m\u001b[0m\u001b[0m\n\u001b[0;32m---> 13\u001b[0;31m \u001b[0mplot_mutual_info\u001b[0m\u001b[0;34m(\u001b[0m\u001b[0mmi_scores1\u001b[0m\u001b[0;34m,\u001b[0m \u001b[0mfeature_names1\u001b[0m\u001b[0;34m,\u001b[0m \u001b[0;34m\"Top Mutual Information Features (Enron Dataset)\"\u001b[0m\u001b[0;34m)\u001b[0m\u001b[0;34m\u001b[0m\u001b[0;34m\u001b[0m\u001b[0m\n\u001b[0m\u001b[1;32m     14\u001b[0m \u001b[0;34m\u001b[0m\u001b[0m\n\u001b[1;32m     15\u001b[0m \u001b[0;31m# New Emails dataset\u001b[0m\u001b[0;34m\u001b[0m\u001b[0;34m\u001b[0m\u001b[0m\n",
            "\u001b[0;31mNameError\u001b[0m: name 'mi_scores1' is not defined"
          ]
        }
      ],
      "source": [
        "def plot_mutual_info(mi_scores, feature_names, title):\n",
        "    mi_series = pd.Series(mi_scores, index=feature_names)\n",
        "    mi_series = mi_series.sort_values(ascending=False).head(20)  # Top 20 features\n",
        "\n",
        "    plt.figure(figsize=(12,6))\n",
        "    sns.barplot(x=mi_series.values, y=mi_series.index)\n",
        "    plt.title(title, fontsize=16)\n",
        "    plt.xlabel('Mutual Information Score')\n",
        "    plt.ylabel('Feature (Word)')\n",
        "    plt.show()\n",
        "\n",
        "# Enron dataset\n",
        "plot_mutual_info(mi_scores1, feature_names1, \"Top Mutual Information Features (Enron Dataset)\")\n",
        "\n",
        "# New Emails dataset\n",
        "plot_mutual_info(mi_scores2, feature_names2, \"Top Mutual Information Features (New Emails Dataset)\")\n"
      ]
    },
    {
      "cell_type": "markdown",
      "metadata": {
        "id": "mAyxAtxOOj7x"
      },
      "source": [
        "Train and Test"
      ]
    },
    {
      "cell_type": "code",
      "execution_count": null,
      "metadata": {
        "id": "Tzej3v7VObSz"
      },
      "outputs": [],
      "source": [
        "from sklearn.model_selection import train_test_split\n",
        "\n",
        "# Old Dataset\n",
        "X1_train, X1_test, y1_train, y1_test = train_test_split(X1, y1, test_size=0.2, random_state=42)\n",
        "\n",
        "# New Emails\n",
        "X2_train, X2_test, y2_train, y2_test = train_test_split(X2, y2, test_size=0.2, random_state=42)\n"
      ]
    },
    {
      "cell_type": "markdown",
      "metadata": {
        "id": "IWCQl-m4OuCV"
      },
      "source": [
        "Importing all necessary libraries"
      ]
    },
    {
      "cell_type": "code",
      "execution_count": null,
      "metadata": {
        "id": "mPdkrm7COw3R"
      },
      "outputs": [],
      "source": [
        "from sklearn.tree import DecisionTreeClassifier\n",
        "from sklearn.ensemble import RandomForestClassifier\n",
        "from sklearn.metrics import classification_report, accuracy_score"
      ]
    },
    {
      "cell_type": "markdown",
      "metadata": {
        "id": "JmSrLkTcO1YH"
      },
      "source": []
    },
    {
      "cell_type": "markdown",
      "metadata": {
        "id": "IKOb9qjjO7Q5"
      },
      "source": [
        "# --------- Old Dataset ---------"
      ]
    },
    {
      "cell_type": "code",
      "execution_count": null,
      "metadata": {
        "id": "yrrnlppvO9ln"
      },
      "outputs": [],
      "source": [
        "# Decision Tree\n",
        "dt1 = DecisionTreeClassifier()\n",
        "dt1.fit(X1_train, y1_train)\n",
        "y1_pred_dt = dt1.predict(X1_test)\n",
        "\n",
        "# Random Forest\n",
        "rf1 = RandomForestClassifier(n_estimators=100)\n",
        "rf1.fit(X1_train, y1_train)\n",
        "y1_pred_rf = rf1.predict(X1_test)"
      ]
    },
    {
      "cell_type": "markdown",
      "metadata": {
        "id": "R0x1HVVuPFHI"
      },
      "source": [
        "# --------- New Emails Dataset ---------"
      ]
    },
    {
      "cell_type": "code",
      "execution_count": null,
      "metadata": {
        "id": "wW3Zkx5UPJY1"
      },
      "outputs": [],
      "source": [
        "# Decision Tree\n",
        "dt2 = DecisionTreeClassifier()\n",
        "dt2.fit(X2_train, y2_train)\n",
        "y2_pred_dt = dt2.predict(X2_test)\n",
        "\n",
        "# Random Forest\n",
        "rf2 = RandomForestClassifier(n_estimators=100)\n",
        "rf2.fit(X2_train, y2_train)\n",
        "y2_pred_rf = rf2.predict(X2_test)"
      ]
    },
    {
      "cell_type": "markdown",
      "metadata": {
        "id": "xwuNh7KqPMFg"
      },
      "source": []
    },
    {
      "cell_type": "markdown",
      "metadata": {
        "id": "U2dCaIj4PURN"
      },
      "source": [
        "Evaluate Models"
      ]
    },
    {
      "cell_type": "code",
      "execution_count": null,
      "metadata": {
        "colab": {
          "base_uri": "https://localhost:8080/"
        },
        "id": "rrqYrJC3PW8A",
        "outputId": "dad0a9f8-41f3-439e-fe3c-fb9da350576b"
      },
      "outputs": [
        {
          "name": "stdout",
          "output_type": "stream",
          "text": [
            "\n",
            "=== Old Emails Dataset Results ===\n",
            "Decision Tree:\n",
            "              precision    recall  f1-score   support\n",
            "\n",
            "           0       0.93      0.91      0.92       978\n",
            "           1       0.91      0.93      0.92       960\n",
            "\n",
            "    accuracy                           0.92      1938\n",
            "   macro avg       0.92      0.92      0.92      1938\n",
            "weighted avg       0.92      0.92      0.92      1938\n",
            "\n",
            "Random Forest:\n",
            "              precision    recall  f1-score   support\n",
            "\n",
            "           0       0.99      0.95      0.97       978\n",
            "           1       0.95      0.99      0.97       960\n",
            "\n",
            "    accuracy                           0.97      1938\n",
            "   macro avg       0.97      0.97      0.97      1938\n",
            "weighted avg       0.97      0.97      0.97      1938\n",
            "\n",
            "\n",
            "=== New Emails Dataset Results ===\n",
            "Decision Tree:\n",
            "              precision    recall  f1-score   support\n",
            "\n",
            "           0       0.92      0.92      0.92      6163\n",
            "           1       0.97      0.96      0.96     13380\n",
            "\n",
            "    accuracy                           0.95     19543\n",
            "   macro avg       0.94      0.94      0.94     19543\n",
            "weighted avg       0.95      0.95      0.95     19543\n",
            "\n",
            "Random Forest:\n",
            "              precision    recall  f1-score   support\n",
            "\n",
            "           0       0.97      0.97      0.97      6163\n",
            "           1       0.98      0.99      0.99     13380\n",
            "\n",
            "    accuracy                           0.98     19543\n",
            "   macro avg       0.98      0.98      0.98     19543\n",
            "weighted avg       0.98      0.98      0.98     19543\n",
            "\n"
          ]
        }
      ],
      "source": [
        "# Old Dataset Results\n",
        "print(\"\\n=== Old Emails Dataset Results ===\")\n",
        "print(\"Decision Tree:\")\n",
        "print(classification_report(y1_test, y1_pred_dt))\n",
        "print(\"Random Forest:\")\n",
        "print(classification_report(y1_test, y1_pred_rf))\n",
        "\n",
        "# New Emails Results\n",
        "print(\"\\n=== New Emails Dataset Results ===\")\n",
        "print(\"Decision Tree:\")\n",
        "print(classification_report(y2_test, y2_pred_dt))\n",
        "print(\"Random Forest:\")\n",
        "print(classification_report(y2_test, y2_pred_rf))"
      ]
    },
    {
      "cell_type": "markdown",
      "metadata": {
        "id": "XUUNJEa3KtcK"
      },
      "source": [
        "TEST and CLean"
      ]
    }
  ],
  "metadata": {
    "colab": {
      "provenance": []
    },
    "kernelspec": {
      "display_name": "Python 3",
      "name": "python3"
    },
    "language_info": {
      "codemirror_mode": {
        "name": "ipython",
        "version": 3
      },
      "file_extension": ".py",
      "mimetype": "text/x-python",
      "name": "python",
      "nbconvert_exporter": "python",
      "pygments_lexer": "ipython3",
      "version": "3.12.2"
    }
  },
  "nbformat": 4,
  "nbformat_minor": 0
}
